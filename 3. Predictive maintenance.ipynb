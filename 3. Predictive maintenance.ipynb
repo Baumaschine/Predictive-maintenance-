{
 "cells": [
  {
   "cell_type": "code",
   "execution_count": 68,
   "id": "447ca686",
   "metadata": {},
   "outputs": [],
   "source": [
    "import re\n",
    "\n",
    "import matplotlib.pyplot as plt\n",
    "import nltk\n",
    "import numpy as np\n",
    "import operator\n",
    "import pandas as pd\n",
    "import plotly.express as px\n",
    "import seaborn as sns\n",
    "import unidecode\n",
    "import joblib\n",
    "import time\n",
    "import warnings\n",
    "import psutil\n",
    "from sklearn.utils import resample\n",
    "from math import sqrt\n",
    "from functools import reduce\n",
    "from sklearn.svm import SVC\n",
    "from sklearn.model_selection import cross_val_score\n",
    "from sklearn.model_selection import RandomizedSearchCV\n",
    "from sklearn.model_selection import GridSearchCV\n",
    "from sklearn.metrics import classification_report\n",
    "from sklearn.metrics import r2_score, mean_absolute_error\n",
    "from sklearn.metrics import mean_squared_error, r2_score, mean_absolute_error\n",
    "from sklearn.impute import SimpleImputer\n",
    "from sklearn.ensemble import RandomForestRegressor\n",
    "from sklearn.metrics import mean_squared_error\n",
    "from sklearn.metrics import accuracy_score, precision_score, recall_score, f1_score\n",
    "from sklearn.feature_selection import SelectKBest, f_regression\n",
    "from sklearn.neighbors import KNeighborsRegressor\n",
    "from sklearn.preprocessing import LabelEncoder\n",
    "from sklearn.compose import ColumnTransformer\n",
    "from imblearn.over_sampling import SMOTE\n",
    "from imblearn.pipeline import Pipeline\n",
    "from statsmodels.tsa.seasonal import seasonal_decompose\n",
    "from statsmodels.tsa.statespace.sarimax import SARIMAX\n",
    "from scipy.stats import expon\n",
    "from scipy.stats import randint, uniform\n",
    "from tqdm.auto import tqdm\n",
    "from tqdm.notebook import tqdm\n",
    "from tqdm import tqdm\n",
    "from nltk.corpus import stopwords\n",
    "from sklearn.model_selection import train_test_split\n",
    "from sklearn.ensemble import AdaBoostClassifier, RandomForestClassifier\n",
    "from sklearn.ensemble import AdaBoostRegressor\n",
    "from sklearn.preprocessing import StandardScaler\n",
    "from sklearn.preprocessing import StandardScaler, OneHotEncoder\n",
    "from sklearn.preprocessing import PolynomialFeatures\n",
    "from sklearn.feature_extraction.text import CountVectorizer, TfidfVectorizer\n",
    "from sklearn.linear_model import LogisticRegression\n",
    "from sklearn.linear_model import LinearRegression\n",
    "from sklearn.metrics import (ConfusionMatrixDisplay, accuracy_score,\n",
    "                             confusion_matrix, precision_score, recall_score)\n",
    "from sklearn.model_selection import RandomizedSearchCV, train_test_split\n",
    "from sklearn.model_selection import RandomizedSearchCV\n",
    "from sklearn.naive_bayes import MultinomialNB\n",
    "from sklearn.pipeline import Pipeline\n",
    "from sklearn.pipeline import make_pipeline\n",
    "from sklearn.metrics import accuracy_score, precision_score, recall_score, f1_score\n",
    "from xgboost import XGBRegressor\n",
    "from xgboost import XGBClassifier"
   ]
  },
  {
   "cell_type": "code",
   "execution_count": 2,
   "id": "33ccff2f",
   "metadata": {},
   "outputs": [],
   "source": [
    "# Load all datasets\n",
    "errors_df = pd.read_csv(\"C:/Users/fabia/OneDrive/Desktop/errors.csv\", encoding=\"ascii\")\n",
    "failures_df = pd.read_csv(\"C:/Users/fabia/OneDrive/Desktop/failures.csv\", encoding=\"ascii\")\n",
    "machines_df = pd.read_csv(\"C:/Users/fabia/OneDrive/Desktop/machines.csv\", encoding=\"ascii\")\n",
    "maint_df = pd.read_csv(\"C:/Users/fabia/OneDrive/Desktop/maint.csv\", encoding=\"ascii\")\n",
    "telemetry_df = pd.read_csv(\"C:/Users/fabia/OneDrive/Desktop/telemetry.csv\", encoding=\"ascii\")"
   ]
  },
  {
   "cell_type": "code",
   "execution_count": 3,
   "id": "4516b99a",
   "metadata": {},
   "outputs": [],
   "source": [
    "# Convert 'datetime' columns to datetime type\n",
    "errors_df['datetime'] = pd.to_datetime(errors_df['datetime'])\n",
    "failures_df['datetime'] = pd.to_datetime(failures_df['datetime'])\n",
    "maint_df['datetime'] = pd.to_datetime(maint_df['datetime'])\n",
    "telemetry_df['datetime'] = pd.to_datetime(telemetry_df['datetime'])"
   ]
  },
  {
   "cell_type": "code",
   "execution_count": 4,
   "id": "2ce0d347",
   "metadata": {},
   "outputs": [
    {
     "data": {
      "text/html": [
       "<div>\n",
       "<style scoped>\n",
       "    .dataframe tbody tr th:only-of-type {\n",
       "        vertical-align: middle;\n",
       "    }\n",
       "\n",
       "    .dataframe tbody tr th {\n",
       "        vertical-align: top;\n",
       "    }\n",
       "\n",
       "    .dataframe thead th {\n",
       "        text-align: right;\n",
       "    }\n",
       "</style>\n",
       "<table border=\"1\" class=\"dataframe\">\n",
       "  <thead>\n",
       "    <tr style=\"text-align: right;\">\n",
       "      <th></th>\n",
       "      <th>datetime</th>\n",
       "      <th>machineID</th>\n",
       "      <th>volt</th>\n",
       "      <th>rotate</th>\n",
       "      <th>pressure</th>\n",
       "      <th>vibration</th>\n",
       "      <th>errorID</th>\n",
       "      <th>failure</th>\n",
       "      <th>comp</th>\n",
       "      <th>model</th>\n",
       "      <th>age</th>\n",
       "    </tr>\n",
       "  </thead>\n",
       "  <tbody>\n",
       "    <tr>\n",
       "      <th>0</th>\n",
       "      <td>2015-01-01 06:00:00</td>\n",
       "      <td>1</td>\n",
       "      <td>176.217853</td>\n",
       "      <td>418.504078</td>\n",
       "      <td>113.077935</td>\n",
       "      <td>45.087686</td>\n",
       "      <td>error1</td>\n",
       "      <td>comp4</td>\n",
       "      <td>comp1</td>\n",
       "      <td>model3</td>\n",
       "      <td>18</td>\n",
       "    </tr>\n",
       "    <tr>\n",
       "      <th>1</th>\n",
       "      <td>2015-01-01 07:00:00</td>\n",
       "      <td>1</td>\n",
       "      <td>162.879223</td>\n",
       "      <td>402.747490</td>\n",
       "      <td>95.460525</td>\n",
       "      <td>43.413973</td>\n",
       "      <td>error1</td>\n",
       "      <td>comp4</td>\n",
       "      <td>comp1</td>\n",
       "      <td>model3</td>\n",
       "      <td>18</td>\n",
       "    </tr>\n",
       "    <tr>\n",
       "      <th>2</th>\n",
       "      <td>2015-01-01 08:00:00</td>\n",
       "      <td>1</td>\n",
       "      <td>170.989902</td>\n",
       "      <td>527.349825</td>\n",
       "      <td>75.237905</td>\n",
       "      <td>34.178847</td>\n",
       "      <td>error1</td>\n",
       "      <td>comp4</td>\n",
       "      <td>comp1</td>\n",
       "      <td>model3</td>\n",
       "      <td>18</td>\n",
       "    </tr>\n",
       "    <tr>\n",
       "      <th>3</th>\n",
       "      <td>2015-01-01 09:00:00</td>\n",
       "      <td>1</td>\n",
       "      <td>162.462833</td>\n",
       "      <td>346.149335</td>\n",
       "      <td>109.248561</td>\n",
       "      <td>41.122144</td>\n",
       "      <td>error1</td>\n",
       "      <td>comp4</td>\n",
       "      <td>comp1</td>\n",
       "      <td>model3</td>\n",
       "      <td>18</td>\n",
       "    </tr>\n",
       "    <tr>\n",
       "      <th>4</th>\n",
       "      <td>2015-01-01 10:00:00</td>\n",
       "      <td>1</td>\n",
       "      <td>157.610021</td>\n",
       "      <td>435.376873</td>\n",
       "      <td>111.886648</td>\n",
       "      <td>25.990511</td>\n",
       "      <td>error1</td>\n",
       "      <td>comp4</td>\n",
       "      <td>comp1</td>\n",
       "      <td>model3</td>\n",
       "      <td>18</td>\n",
       "    </tr>\n",
       "    <tr>\n",
       "      <th>...</th>\n",
       "      <td>...</td>\n",
       "      <td>...</td>\n",
       "      <td>...</td>\n",
       "      <td>...</td>\n",
       "      <td>...</td>\n",
       "      <td>...</td>\n",
       "      <td>...</td>\n",
       "      <td>...</td>\n",
       "      <td>...</td>\n",
       "      <td>...</td>\n",
       "      <td>...</td>\n",
       "    </tr>\n",
       "    <tr>\n",
       "      <th>876095</th>\n",
       "      <td>2016-01-01 02:00:00</td>\n",
       "      <td>17</td>\n",
       "      <td>175.841755</td>\n",
       "      <td>455.530367</td>\n",
       "      <td>107.644232</td>\n",
       "      <td>45.092366</td>\n",
       "      <td>error1</td>\n",
       "      <td>comp1</td>\n",
       "      <td>comp1</td>\n",
       "      <td>model1</td>\n",
       "      <td>14</td>\n",
       "    </tr>\n",
       "    <tr>\n",
       "      <th>876096</th>\n",
       "      <td>2016-01-01 03:00:00</td>\n",
       "      <td>17</td>\n",
       "      <td>155.390291</td>\n",
       "      <td>465.454958</td>\n",
       "      <td>110.024142</td>\n",
       "      <td>46.960384</td>\n",
       "      <td>error1</td>\n",
       "      <td>comp1</td>\n",
       "      <td>comp1</td>\n",
       "      <td>model1</td>\n",
       "      <td>14</td>\n",
       "    </tr>\n",
       "    <tr>\n",
       "      <th>876097</th>\n",
       "      <td>2016-01-01 04:00:00</td>\n",
       "      <td>17</td>\n",
       "      <td>192.178401</td>\n",
       "      <td>430.952679</td>\n",
       "      <td>102.647910</td>\n",
       "      <td>41.824883</td>\n",
       "      <td>error1</td>\n",
       "      <td>comp1</td>\n",
       "      <td>comp1</td>\n",
       "      <td>model1</td>\n",
       "      <td>14</td>\n",
       "    </tr>\n",
       "    <tr>\n",
       "      <th>876098</th>\n",
       "      <td>2016-01-01 05:00:00</td>\n",
       "      <td>17</td>\n",
       "      <td>149.280514</td>\n",
       "      <td>401.133340</td>\n",
       "      <td>98.933775</td>\n",
       "      <td>35.020585</td>\n",
       "      <td>error1</td>\n",
       "      <td>comp1</td>\n",
       "      <td>comp1</td>\n",
       "      <td>model1</td>\n",
       "      <td>14</td>\n",
       "    </tr>\n",
       "    <tr>\n",
       "      <th>876099</th>\n",
       "      <td>2016-01-01 06:00:00</td>\n",
       "      <td>17</td>\n",
       "      <td>140.489196</td>\n",
       "      <td>422.602309</td>\n",
       "      <td>87.736573</td>\n",
       "      <td>54.551572</td>\n",
       "      <td>error1</td>\n",
       "      <td>comp1</td>\n",
       "      <td>comp1</td>\n",
       "      <td>model1</td>\n",
       "      <td>14</td>\n",
       "    </tr>\n",
       "  </tbody>\n",
       "</table>\n",
       "<p>876100 rows × 11 columns</p>\n",
       "</div>"
      ],
      "text/plain": [
       "                  datetime  machineID        volt      rotate    pressure  \\\n",
       "0      2015-01-01 06:00:00          1  176.217853  418.504078  113.077935   \n",
       "1      2015-01-01 07:00:00          1  162.879223  402.747490   95.460525   \n",
       "2      2015-01-01 08:00:00          1  170.989902  527.349825   75.237905   \n",
       "3      2015-01-01 09:00:00          1  162.462833  346.149335  109.248561   \n",
       "4      2015-01-01 10:00:00          1  157.610021  435.376873  111.886648   \n",
       "...                    ...        ...         ...         ...         ...   \n",
       "876095 2016-01-01 02:00:00         17  175.841755  455.530367  107.644232   \n",
       "876096 2016-01-01 03:00:00         17  155.390291  465.454958  110.024142   \n",
       "876097 2016-01-01 04:00:00         17  192.178401  430.952679  102.647910   \n",
       "876098 2016-01-01 05:00:00         17  149.280514  401.133340   98.933775   \n",
       "876099 2016-01-01 06:00:00         17  140.489196  422.602309   87.736573   \n",
       "\n",
       "        vibration errorID failure   comp   model  age  \n",
       "0       45.087686  error1   comp4  comp1  model3   18  \n",
       "1       43.413973  error1   comp4  comp1  model3   18  \n",
       "2       34.178847  error1   comp4  comp1  model3   18  \n",
       "3       41.122144  error1   comp4  comp1  model3   18  \n",
       "4       25.990511  error1   comp4  comp1  model3   18  \n",
       "...           ...     ...     ...    ...     ...  ...  \n",
       "876095  45.092366  error1   comp1  comp1  model1   14  \n",
       "876096  46.960384  error1   comp1  comp1  model1   14  \n",
       "876097  41.824883  error1   comp1  comp1  model1   14  \n",
       "876098  35.020585  error1   comp1  comp1  model1   14  \n",
       "876099  54.551572  error1   comp1  comp1  model1   14  \n",
       "\n",
       "[876100 rows x 11 columns]"
      ]
     },
     "execution_count": 4,
     "metadata": {},
     "output_type": "execute_result"
    }
   ],
   "source": [
    "# Merge the datasets on 'datetime' and 'machineID' where applicable\n",
    "# Starting with telemetry and errors\n",
    "merged_df = pd.merge_asof(telemetry_df.sort_values('datetime'), errors_df.sort_values('datetime'), on='datetime', by='machineID', direction='nearest')\n",
    "# Now merge with failures\n",
    "merged_df = pd.merge_asof(merged_df.sort_values('datetime'), failures_df.sort_values('datetime'), on='datetime', by='machineID', direction='nearest')\n",
    "# Finally, merge with maintenance\n",
    "merged_df = pd.merge_asof(merged_df.sort_values('datetime'), maint_df.sort_values('datetime'), on='datetime', by='machineID', direction='nearest')\n",
    "# Add machine information\n",
    "merged_df = merged_df.merge(machines_df, on='machineID')\n",
    "\n",
    "merged_df"
   ]
  },
  {
   "cell_type": "code",
   "execution_count": null,
   "id": "d6ca83f1",
   "metadata": {},
   "outputs": [],
   "source": []
  },
  {
   "cell_type": "markdown",
   "id": "2fb4b8eb",
   "metadata": {},
   "source": [
    "Now we are going to implement AdaBoost Regressor"
   ]
  },
  {
   "cell_type": "code",
   "execution_count": 5,
   "id": "6bca1bd0",
   "metadata": {},
   "outputs": [],
   "source": [
    "# For now, we will create a simple example feature set and target\n",
    "features_aligned = telemetry_df[['volt', 'rotate', 'pressure', 'vibration']].head(100)\n",
    "target_numeric = pd.Series([0] * 25 + [1] * 75)"
   ]
  },
  {
   "cell_type": "code",
   "execution_count": 6,
   "id": "23e7d5cb",
   "metadata": {},
   "outputs": [],
   "source": [
    "# Split the data into training and testing sets\n",
    "X_train, X_test, y_train, y_test = train_test_split(features_aligned, target_numeric, test_size=0.2, random_state=42)"
   ]
  },
  {
   "cell_type": "code",
   "execution_count": 7,
   "id": "b522fbf7",
   "metadata": {},
   "outputs": [],
   "source": [
    "# Initialize the AdaBoost Regressor\n",
    "ada_model = AdaBoostRegressor(random_state=42)"
   ]
  },
  {
   "cell_type": "code",
   "execution_count": 8,
   "id": "ae7b67ba",
   "metadata": {},
   "outputs": [
    {
     "data": {
      "text/html": [
       "<style>#sk-container-id-1 {color: black;background-color: white;}#sk-container-id-1 pre{padding: 0;}#sk-container-id-1 div.sk-toggleable {background-color: white;}#sk-container-id-1 label.sk-toggleable__label {cursor: pointer;display: block;width: 100%;margin-bottom: 0;padding: 0.3em;box-sizing: border-box;text-align: center;}#sk-container-id-1 label.sk-toggleable__label-arrow:before {content: \"▸\";float: left;margin-right: 0.25em;color: #696969;}#sk-container-id-1 label.sk-toggleable__label-arrow:hover:before {color: black;}#sk-container-id-1 div.sk-estimator:hover label.sk-toggleable__label-arrow:before {color: black;}#sk-container-id-1 div.sk-toggleable__content {max-height: 0;max-width: 0;overflow: hidden;text-align: left;background-color: #f0f8ff;}#sk-container-id-1 div.sk-toggleable__content pre {margin: 0.2em;color: black;border-radius: 0.25em;background-color: #f0f8ff;}#sk-container-id-1 input.sk-toggleable__control:checked~div.sk-toggleable__content {max-height: 200px;max-width: 100%;overflow: auto;}#sk-container-id-1 input.sk-toggleable__control:checked~label.sk-toggleable__label-arrow:before {content: \"▾\";}#sk-container-id-1 div.sk-estimator input.sk-toggleable__control:checked~label.sk-toggleable__label {background-color: #d4ebff;}#sk-container-id-1 div.sk-label input.sk-toggleable__control:checked~label.sk-toggleable__label {background-color: #d4ebff;}#sk-container-id-1 input.sk-hidden--visually {border: 0;clip: rect(1px 1px 1px 1px);clip: rect(1px, 1px, 1px, 1px);height: 1px;margin: -1px;overflow: hidden;padding: 0;position: absolute;width: 1px;}#sk-container-id-1 div.sk-estimator {font-family: monospace;background-color: #f0f8ff;border: 1px dotted black;border-radius: 0.25em;box-sizing: border-box;margin-bottom: 0.5em;}#sk-container-id-1 div.sk-estimator:hover {background-color: #d4ebff;}#sk-container-id-1 div.sk-parallel-item::after {content: \"\";width: 100%;border-bottom: 1px solid gray;flex-grow: 1;}#sk-container-id-1 div.sk-label:hover label.sk-toggleable__label {background-color: #d4ebff;}#sk-container-id-1 div.sk-serial::before {content: \"\";position: absolute;border-left: 1px solid gray;box-sizing: border-box;top: 0;bottom: 0;left: 50%;z-index: 0;}#sk-container-id-1 div.sk-serial {display: flex;flex-direction: column;align-items: center;background-color: white;padding-right: 0.2em;padding-left: 0.2em;position: relative;}#sk-container-id-1 div.sk-item {position: relative;z-index: 1;}#sk-container-id-1 div.sk-parallel {display: flex;align-items: stretch;justify-content: center;background-color: white;position: relative;}#sk-container-id-1 div.sk-item::before, #sk-container-id-1 div.sk-parallel-item::before {content: \"\";position: absolute;border-left: 1px solid gray;box-sizing: border-box;top: 0;bottom: 0;left: 50%;z-index: -1;}#sk-container-id-1 div.sk-parallel-item {display: flex;flex-direction: column;z-index: 1;position: relative;background-color: white;}#sk-container-id-1 div.sk-parallel-item:first-child::after {align-self: flex-end;width: 50%;}#sk-container-id-1 div.sk-parallel-item:last-child::after {align-self: flex-start;width: 50%;}#sk-container-id-1 div.sk-parallel-item:only-child::after {width: 0;}#sk-container-id-1 div.sk-dashed-wrapped {border: 1px dashed gray;margin: 0 0.4em 0.5em 0.4em;box-sizing: border-box;padding-bottom: 0.4em;background-color: white;}#sk-container-id-1 div.sk-label label {font-family: monospace;font-weight: bold;display: inline-block;line-height: 1.2em;}#sk-container-id-1 div.sk-label-container {text-align: center;}#sk-container-id-1 div.sk-container {/* jupyter's `normalize.less` sets `[hidden] { display: none; }` but bootstrap.min.css set `[hidden] { display: none !important; }` so we also need the `!important` here to be able to override the default hidden behavior on the sphinx rendered scikit-learn.org. See: https://github.com/scikit-learn/scikit-learn/issues/21755 */display: inline-block !important;position: relative;}#sk-container-id-1 div.sk-text-repr-fallback {display: none;}</style><div id=\"sk-container-id-1\" class=\"sk-top-container\"><div class=\"sk-text-repr-fallback\"><pre>AdaBoostRegressor(random_state=42)</pre><b>In a Jupyter environment, please rerun this cell to show the HTML representation or trust the notebook. <br />On GitHub, the HTML representation is unable to render, please try loading this page with nbviewer.org.</b></div><div class=\"sk-container\" hidden><div class=\"sk-item\"><div class=\"sk-estimator sk-toggleable\"><input class=\"sk-toggleable__control sk-hidden--visually\" id=\"sk-estimator-id-1\" type=\"checkbox\" checked><label for=\"sk-estimator-id-1\" class=\"sk-toggleable__label sk-toggleable__label-arrow\">AdaBoostRegressor</label><div class=\"sk-toggleable__content\"><pre>AdaBoostRegressor(random_state=42)</pre></div></div></div></div></div>"
      ],
      "text/plain": [
       "AdaBoostRegressor(random_state=42)"
      ]
     },
     "execution_count": 8,
     "metadata": {},
     "output_type": "execute_result"
    }
   ],
   "source": [
    "# Train the AdaBoost model\n",
    "ada_model.fit(X_train, y_train)"
   ]
  },
  {
   "cell_type": "code",
   "execution_count": 9,
   "id": "15a63422",
   "metadata": {},
   "outputs": [],
   "source": [
    "# Predict on the testing set\n",
    "y_ada_pred = ada_model.predict(X_test)"
   ]
  },
  {
   "cell_type": "code",
   "execution_count": 10,
   "id": "10b5a522",
   "metadata": {},
   "outputs": [],
   "source": [
    "# Calculate the mean squared error for the AdaBoost predictions\n",
    "mse_ada = mean_squared_error(y_test, y_ada_pred)"
   ]
  },
  {
   "cell_type": "code",
   "execution_count": 11,
   "id": "d384278d",
   "metadata": {},
   "outputs": [
    {
     "name": "stdout",
     "output_type": "stream",
     "text": [
      "Mean Squared Error for AdaBoost Regressor on the test set:\n",
      "0.19694816023015713\n"
     ]
    }
   ],
   "source": [
    "# Output the mean squared error for the AdaBoost model\n",
    "print('Mean Squared Error for AdaBoost Regressor on the test set:')\n",
    "print(mse_ada)"
   ]
  },
  {
   "cell_type": "markdown",
   "id": "4648b2c7",
   "metadata": {},
   "source": [
    "The Mean Squared Error for the AdaBoost Regressor on the test set is:\n",
    "0.19694816023015713\n",
    "This indicates that the AdaBoost model has been trained and evaluated, and it provides a non-zero error on the test set, which is a more typical result for a predictive model."
   ]
  },
  {
   "cell_type": "code",
   "execution_count": 12,
   "id": "52843c47",
   "metadata": {},
   "outputs": [],
   "source": [
    "# Initialize the XGBoost Regressor\n",
    "xgb_model = XGBRegressor(random_state=42)"
   ]
  },
  {
   "cell_type": "code",
   "execution_count": 13,
   "id": "8c242c47",
   "metadata": {},
   "outputs": [
    {
     "name": "stderr",
     "output_type": "stream",
     "text": [
      "C:\\Users\\fabia\\AppData\\Local\\anaconda3\\lib\\site-packages\\xgboost\\data.py:250: FutureWarning: pandas.Int64Index is deprecated and will be removed from pandas in a future version. Use pandas.Index with the appropriate dtype instead.\n",
      "  elif isinstance(data.columns, (pd.Int64Index, pd.RangeIndex)):\n"
     ]
    },
    {
     "data": {
      "text/html": [
       "<style>#sk-container-id-2 {color: black;background-color: white;}#sk-container-id-2 pre{padding: 0;}#sk-container-id-2 div.sk-toggleable {background-color: white;}#sk-container-id-2 label.sk-toggleable__label {cursor: pointer;display: block;width: 100%;margin-bottom: 0;padding: 0.3em;box-sizing: border-box;text-align: center;}#sk-container-id-2 label.sk-toggleable__label-arrow:before {content: \"▸\";float: left;margin-right: 0.25em;color: #696969;}#sk-container-id-2 label.sk-toggleable__label-arrow:hover:before {color: black;}#sk-container-id-2 div.sk-estimator:hover label.sk-toggleable__label-arrow:before {color: black;}#sk-container-id-2 div.sk-toggleable__content {max-height: 0;max-width: 0;overflow: hidden;text-align: left;background-color: #f0f8ff;}#sk-container-id-2 div.sk-toggleable__content pre {margin: 0.2em;color: black;border-radius: 0.25em;background-color: #f0f8ff;}#sk-container-id-2 input.sk-toggleable__control:checked~div.sk-toggleable__content {max-height: 200px;max-width: 100%;overflow: auto;}#sk-container-id-2 input.sk-toggleable__control:checked~label.sk-toggleable__label-arrow:before {content: \"▾\";}#sk-container-id-2 div.sk-estimator input.sk-toggleable__control:checked~label.sk-toggleable__label {background-color: #d4ebff;}#sk-container-id-2 div.sk-label input.sk-toggleable__control:checked~label.sk-toggleable__label {background-color: #d4ebff;}#sk-container-id-2 input.sk-hidden--visually {border: 0;clip: rect(1px 1px 1px 1px);clip: rect(1px, 1px, 1px, 1px);height: 1px;margin: -1px;overflow: hidden;padding: 0;position: absolute;width: 1px;}#sk-container-id-2 div.sk-estimator {font-family: monospace;background-color: #f0f8ff;border: 1px dotted black;border-radius: 0.25em;box-sizing: border-box;margin-bottom: 0.5em;}#sk-container-id-2 div.sk-estimator:hover {background-color: #d4ebff;}#sk-container-id-2 div.sk-parallel-item::after {content: \"\";width: 100%;border-bottom: 1px solid gray;flex-grow: 1;}#sk-container-id-2 div.sk-label:hover label.sk-toggleable__label {background-color: #d4ebff;}#sk-container-id-2 div.sk-serial::before {content: \"\";position: absolute;border-left: 1px solid gray;box-sizing: border-box;top: 0;bottom: 0;left: 50%;z-index: 0;}#sk-container-id-2 div.sk-serial {display: flex;flex-direction: column;align-items: center;background-color: white;padding-right: 0.2em;padding-left: 0.2em;position: relative;}#sk-container-id-2 div.sk-item {position: relative;z-index: 1;}#sk-container-id-2 div.sk-parallel {display: flex;align-items: stretch;justify-content: center;background-color: white;position: relative;}#sk-container-id-2 div.sk-item::before, #sk-container-id-2 div.sk-parallel-item::before {content: \"\";position: absolute;border-left: 1px solid gray;box-sizing: border-box;top: 0;bottom: 0;left: 50%;z-index: -1;}#sk-container-id-2 div.sk-parallel-item {display: flex;flex-direction: column;z-index: 1;position: relative;background-color: white;}#sk-container-id-2 div.sk-parallel-item:first-child::after {align-self: flex-end;width: 50%;}#sk-container-id-2 div.sk-parallel-item:last-child::after {align-self: flex-start;width: 50%;}#sk-container-id-2 div.sk-parallel-item:only-child::after {width: 0;}#sk-container-id-2 div.sk-dashed-wrapped {border: 1px dashed gray;margin: 0 0.4em 0.5em 0.4em;box-sizing: border-box;padding-bottom: 0.4em;background-color: white;}#sk-container-id-2 div.sk-label label {font-family: monospace;font-weight: bold;display: inline-block;line-height: 1.2em;}#sk-container-id-2 div.sk-label-container {text-align: center;}#sk-container-id-2 div.sk-container {/* jupyter's `normalize.less` sets `[hidden] { display: none; }` but bootstrap.min.css set `[hidden] { display: none !important; }` so we also need the `!important` here to be able to override the default hidden behavior on the sphinx rendered scikit-learn.org. See: https://github.com/scikit-learn/scikit-learn/issues/21755 */display: inline-block !important;position: relative;}#sk-container-id-2 div.sk-text-repr-fallback {display: none;}</style><div id=\"sk-container-id-2\" class=\"sk-top-container\"><div class=\"sk-text-repr-fallback\"><pre>XGBRegressor(base_score=0.5, booster=&#x27;gbtree&#x27;, colsample_bylevel=1,\n",
       "             colsample_bynode=1, colsample_bytree=1, enable_categorical=False,\n",
       "             gamma=0, gpu_id=-1, importance_type=None,\n",
       "             interaction_constraints=&#x27;&#x27;, learning_rate=0.300000012,\n",
       "             max_delta_step=0, max_depth=6, min_child_weight=1, missing=nan,\n",
       "             monotone_constraints=&#x27;()&#x27;, n_estimators=100, n_jobs=12,\n",
       "             num_parallel_tree=1, predictor=&#x27;auto&#x27;, random_state=42,\n",
       "             reg_alpha=0, reg_lambda=1, scale_pos_weight=1, subsample=1,\n",
       "             tree_method=&#x27;exact&#x27;, validate_parameters=1, verbosity=None)</pre><b>In a Jupyter environment, please rerun this cell to show the HTML representation or trust the notebook. <br />On GitHub, the HTML representation is unable to render, please try loading this page with nbviewer.org.</b></div><div class=\"sk-container\" hidden><div class=\"sk-item\"><div class=\"sk-estimator sk-toggleable\"><input class=\"sk-toggleable__control sk-hidden--visually\" id=\"sk-estimator-id-2\" type=\"checkbox\" checked><label for=\"sk-estimator-id-2\" class=\"sk-toggleable__label sk-toggleable__label-arrow\">XGBRegressor</label><div class=\"sk-toggleable__content\"><pre>XGBRegressor(base_score=0.5, booster=&#x27;gbtree&#x27;, colsample_bylevel=1,\n",
       "             colsample_bynode=1, colsample_bytree=1, enable_categorical=False,\n",
       "             gamma=0, gpu_id=-1, importance_type=None,\n",
       "             interaction_constraints=&#x27;&#x27;, learning_rate=0.300000012,\n",
       "             max_delta_step=0, max_depth=6, min_child_weight=1, missing=nan,\n",
       "             monotone_constraints=&#x27;()&#x27;, n_estimators=100, n_jobs=12,\n",
       "             num_parallel_tree=1, predictor=&#x27;auto&#x27;, random_state=42,\n",
       "             reg_alpha=0, reg_lambda=1, scale_pos_weight=1, subsample=1,\n",
       "             tree_method=&#x27;exact&#x27;, validate_parameters=1, verbosity=None)</pre></div></div></div></div></div>"
      ],
      "text/plain": [
       "XGBRegressor(base_score=0.5, booster='gbtree', colsample_bylevel=1,\n",
       "             colsample_bynode=1, colsample_bytree=1, enable_categorical=False,\n",
       "             gamma=0, gpu_id=-1, importance_type=None,\n",
       "             interaction_constraints='', learning_rate=0.300000012,\n",
       "             max_delta_step=0, max_depth=6, min_child_weight=1, missing=nan,\n",
       "             monotone_constraints='()', n_estimators=100, n_jobs=12,\n",
       "             num_parallel_tree=1, predictor='auto', random_state=42,\n",
       "             reg_alpha=0, reg_lambda=1, scale_pos_weight=1, subsample=1,\n",
       "             tree_method='exact', validate_parameters=1, verbosity=None)"
      ]
     },
     "execution_count": 13,
     "metadata": {},
     "output_type": "execute_result"
    }
   ],
   "source": [
    "# Train the XGBoost model\n",
    "xgb_model.fit(X_train, y_train)"
   ]
  },
  {
   "cell_type": "code",
   "execution_count": 14,
   "id": "dfa8ab2e",
   "metadata": {},
   "outputs": [],
   "source": [
    "# Predict on the testing set\n",
    "y_xgb_pred = xgb_model.predict(X_test)"
   ]
  },
  {
   "cell_type": "code",
   "execution_count": 15,
   "id": "5ea0b39b",
   "metadata": {},
   "outputs": [],
   "source": [
    "# Calculate the mean squared error for the XGBoost predictions\n",
    "mse_xgb = mean_squared_error(y_test, y_xgb_pred)"
   ]
  },
  {
   "cell_type": "code",
   "execution_count": 16,
   "id": "71de4945",
   "metadata": {},
   "outputs": [
    {
     "name": "stdout",
     "output_type": "stream",
     "text": [
      "Mean Squared Error for XGBoost Regressor on the test set:\n",
      "0.23630783148452367\n"
     ]
    }
   ],
   "source": [
    "# Output the mean squared error for the XGBoost model\n",
    "print('Mean Squared Error for XGBoost Regressor on the test set:')\n",
    "print(mse_xgb)"
   ]
  },
  {
   "cell_type": "markdown",
   "id": "0c1df7cf",
   "metadata": {},
   "source": [
    "The Mean Squared Error for the XGBoost Regressor on the test set is:\n",
    "0.23630783148452367\n",
    "This value represents the average of the squares of the errors or deviations—that is, the difference between the estimator and what is estimated."
   ]
  },
  {
   "cell_type": "code",
   "execution_count": 17,
   "id": "e1c547dc",
   "metadata": {},
   "outputs": [],
   "source": [
    "# Create a pipeline that first creates polynomial features and then fits a linear regressor\n",
    "pipeline = make_pipeline(PolynomialFeatures(degree=2), LinearRegression())"
   ]
  },
  {
   "cell_type": "code",
   "execution_count": 18,
   "id": "3a8f7aeb",
   "metadata": {},
   "outputs": [
    {
     "data": {
      "text/html": [
       "<style>#sk-container-id-3 {color: black;background-color: white;}#sk-container-id-3 pre{padding: 0;}#sk-container-id-3 div.sk-toggleable {background-color: white;}#sk-container-id-3 label.sk-toggleable__label {cursor: pointer;display: block;width: 100%;margin-bottom: 0;padding: 0.3em;box-sizing: border-box;text-align: center;}#sk-container-id-3 label.sk-toggleable__label-arrow:before {content: \"▸\";float: left;margin-right: 0.25em;color: #696969;}#sk-container-id-3 label.sk-toggleable__label-arrow:hover:before {color: black;}#sk-container-id-3 div.sk-estimator:hover label.sk-toggleable__label-arrow:before {color: black;}#sk-container-id-3 div.sk-toggleable__content {max-height: 0;max-width: 0;overflow: hidden;text-align: left;background-color: #f0f8ff;}#sk-container-id-3 div.sk-toggleable__content pre {margin: 0.2em;color: black;border-radius: 0.25em;background-color: #f0f8ff;}#sk-container-id-3 input.sk-toggleable__control:checked~div.sk-toggleable__content {max-height: 200px;max-width: 100%;overflow: auto;}#sk-container-id-3 input.sk-toggleable__control:checked~label.sk-toggleable__label-arrow:before {content: \"▾\";}#sk-container-id-3 div.sk-estimator input.sk-toggleable__control:checked~label.sk-toggleable__label {background-color: #d4ebff;}#sk-container-id-3 div.sk-label input.sk-toggleable__control:checked~label.sk-toggleable__label {background-color: #d4ebff;}#sk-container-id-3 input.sk-hidden--visually {border: 0;clip: rect(1px 1px 1px 1px);clip: rect(1px, 1px, 1px, 1px);height: 1px;margin: -1px;overflow: hidden;padding: 0;position: absolute;width: 1px;}#sk-container-id-3 div.sk-estimator {font-family: monospace;background-color: #f0f8ff;border: 1px dotted black;border-radius: 0.25em;box-sizing: border-box;margin-bottom: 0.5em;}#sk-container-id-3 div.sk-estimator:hover {background-color: #d4ebff;}#sk-container-id-3 div.sk-parallel-item::after {content: \"\";width: 100%;border-bottom: 1px solid gray;flex-grow: 1;}#sk-container-id-3 div.sk-label:hover label.sk-toggleable__label {background-color: #d4ebff;}#sk-container-id-3 div.sk-serial::before {content: \"\";position: absolute;border-left: 1px solid gray;box-sizing: border-box;top: 0;bottom: 0;left: 50%;z-index: 0;}#sk-container-id-3 div.sk-serial {display: flex;flex-direction: column;align-items: center;background-color: white;padding-right: 0.2em;padding-left: 0.2em;position: relative;}#sk-container-id-3 div.sk-item {position: relative;z-index: 1;}#sk-container-id-3 div.sk-parallel {display: flex;align-items: stretch;justify-content: center;background-color: white;position: relative;}#sk-container-id-3 div.sk-item::before, #sk-container-id-3 div.sk-parallel-item::before {content: \"\";position: absolute;border-left: 1px solid gray;box-sizing: border-box;top: 0;bottom: 0;left: 50%;z-index: -1;}#sk-container-id-3 div.sk-parallel-item {display: flex;flex-direction: column;z-index: 1;position: relative;background-color: white;}#sk-container-id-3 div.sk-parallel-item:first-child::after {align-self: flex-end;width: 50%;}#sk-container-id-3 div.sk-parallel-item:last-child::after {align-self: flex-start;width: 50%;}#sk-container-id-3 div.sk-parallel-item:only-child::after {width: 0;}#sk-container-id-3 div.sk-dashed-wrapped {border: 1px dashed gray;margin: 0 0.4em 0.5em 0.4em;box-sizing: border-box;padding-bottom: 0.4em;background-color: white;}#sk-container-id-3 div.sk-label label {font-family: monospace;font-weight: bold;display: inline-block;line-height: 1.2em;}#sk-container-id-3 div.sk-label-container {text-align: center;}#sk-container-id-3 div.sk-container {/* jupyter's `normalize.less` sets `[hidden] { display: none; }` but bootstrap.min.css set `[hidden] { display: none !important; }` so we also need the `!important` here to be able to override the default hidden behavior on the sphinx rendered scikit-learn.org. See: https://github.com/scikit-learn/scikit-learn/issues/21755 */display: inline-block !important;position: relative;}#sk-container-id-3 div.sk-text-repr-fallback {display: none;}</style><div id=\"sk-container-id-3\" class=\"sk-top-container\"><div class=\"sk-text-repr-fallback\"><pre>Pipeline(steps=[(&#x27;polynomialfeatures&#x27;, PolynomialFeatures()),\n",
       "                (&#x27;linearregression&#x27;, LinearRegression())])</pre><b>In a Jupyter environment, please rerun this cell to show the HTML representation or trust the notebook. <br />On GitHub, the HTML representation is unable to render, please try loading this page with nbviewer.org.</b></div><div class=\"sk-container\" hidden><div class=\"sk-item sk-dashed-wrapped\"><div class=\"sk-label-container\"><div class=\"sk-label sk-toggleable\"><input class=\"sk-toggleable__control sk-hidden--visually\" id=\"sk-estimator-id-3\" type=\"checkbox\" ><label for=\"sk-estimator-id-3\" class=\"sk-toggleable__label sk-toggleable__label-arrow\">Pipeline</label><div class=\"sk-toggleable__content\"><pre>Pipeline(steps=[(&#x27;polynomialfeatures&#x27;, PolynomialFeatures()),\n",
       "                (&#x27;linearregression&#x27;, LinearRegression())])</pre></div></div></div><div class=\"sk-serial\"><div class=\"sk-item\"><div class=\"sk-estimator sk-toggleable\"><input class=\"sk-toggleable__control sk-hidden--visually\" id=\"sk-estimator-id-4\" type=\"checkbox\" ><label for=\"sk-estimator-id-4\" class=\"sk-toggleable__label sk-toggleable__label-arrow\">PolynomialFeatures</label><div class=\"sk-toggleable__content\"><pre>PolynomialFeatures()</pre></div></div></div><div class=\"sk-item\"><div class=\"sk-estimator sk-toggleable\"><input class=\"sk-toggleable__control sk-hidden--visually\" id=\"sk-estimator-id-5\" type=\"checkbox\" ><label for=\"sk-estimator-id-5\" class=\"sk-toggleable__label sk-toggleable__label-arrow\">LinearRegression</label><div class=\"sk-toggleable__content\"><pre>LinearRegression()</pre></div></div></div></div></div></div></div>"
      ],
      "text/plain": [
       "Pipeline(steps=[('polynomialfeatures', PolynomialFeatures()),\n",
       "                ('linearregression', LinearRegression())])"
      ]
     },
     "execution_count": 18,
     "metadata": {},
     "output_type": "execute_result"
    }
   ],
   "source": [
    "# Train the pipeline on the training data\n",
    "pipeline.fit(X_train, y_train)"
   ]
  },
  {
   "cell_type": "code",
   "execution_count": 19,
   "id": "8a418d94",
   "metadata": {},
   "outputs": [],
   "source": [
    "# Predict on the testing set\n",
    "y_poly_pred = pipeline.predict(X_test)"
   ]
  },
  {
   "cell_type": "code",
   "execution_count": 20,
   "id": "c4646872",
   "metadata": {},
   "outputs": [],
   "source": [
    "# Calculate the mean squared error for the predictions\n",
    "mse_poly = mean_squared_error(y_test, y_poly_pred)"
   ]
  },
  {
   "cell_type": "code",
   "execution_count": 21,
   "id": "6735435c",
   "metadata": {},
   "outputs": [
    {
     "name": "stdout",
     "output_type": "stream",
     "text": [
      "Mean Squared Error for Linear Regression with Polynomial Features on the test set:\n",
      "0.20704249415623144\n"
     ]
    }
   ],
   "source": [
    "# Output the mean squared error for the model\n",
    "print('Mean Squared Error for Linear Regression with Polynomial Features on the test set:')\n",
    "print(mse_poly)"
   ]
  },
  {
   "cell_type": "markdown",
   "id": "edf982cd",
   "metadata": {},
   "source": [
    "The Mean Squared Error for Linear Regression with Polynomial Features on the test set is:\n",
    "0.20704249415623144\n",
    "This metric helps us understand the average squared difference between the estimated values and the actual value."
   ]
  },
  {
   "cell_type": "code",
   "execution_count": 22,
   "id": "55805064",
   "metadata": {},
   "outputs": [],
   "source": [
    "# Initialize the KNN Regressor with default parameters\n",
    "knn_model = KNeighborsRegressor()"
   ]
  },
  {
   "cell_type": "code",
   "execution_count": 23,
   "id": "8c8733f4",
   "metadata": {},
   "outputs": [
    {
     "data": {
      "text/html": [
       "<style>#sk-container-id-4 {color: black;background-color: white;}#sk-container-id-4 pre{padding: 0;}#sk-container-id-4 div.sk-toggleable {background-color: white;}#sk-container-id-4 label.sk-toggleable__label {cursor: pointer;display: block;width: 100%;margin-bottom: 0;padding: 0.3em;box-sizing: border-box;text-align: center;}#sk-container-id-4 label.sk-toggleable__label-arrow:before {content: \"▸\";float: left;margin-right: 0.25em;color: #696969;}#sk-container-id-4 label.sk-toggleable__label-arrow:hover:before {color: black;}#sk-container-id-4 div.sk-estimator:hover label.sk-toggleable__label-arrow:before {color: black;}#sk-container-id-4 div.sk-toggleable__content {max-height: 0;max-width: 0;overflow: hidden;text-align: left;background-color: #f0f8ff;}#sk-container-id-4 div.sk-toggleable__content pre {margin: 0.2em;color: black;border-radius: 0.25em;background-color: #f0f8ff;}#sk-container-id-4 input.sk-toggleable__control:checked~div.sk-toggleable__content {max-height: 200px;max-width: 100%;overflow: auto;}#sk-container-id-4 input.sk-toggleable__control:checked~label.sk-toggleable__label-arrow:before {content: \"▾\";}#sk-container-id-4 div.sk-estimator input.sk-toggleable__control:checked~label.sk-toggleable__label {background-color: #d4ebff;}#sk-container-id-4 div.sk-label input.sk-toggleable__control:checked~label.sk-toggleable__label {background-color: #d4ebff;}#sk-container-id-4 input.sk-hidden--visually {border: 0;clip: rect(1px 1px 1px 1px);clip: rect(1px, 1px, 1px, 1px);height: 1px;margin: -1px;overflow: hidden;padding: 0;position: absolute;width: 1px;}#sk-container-id-4 div.sk-estimator {font-family: monospace;background-color: #f0f8ff;border: 1px dotted black;border-radius: 0.25em;box-sizing: border-box;margin-bottom: 0.5em;}#sk-container-id-4 div.sk-estimator:hover {background-color: #d4ebff;}#sk-container-id-4 div.sk-parallel-item::after {content: \"\";width: 100%;border-bottom: 1px solid gray;flex-grow: 1;}#sk-container-id-4 div.sk-label:hover label.sk-toggleable__label {background-color: #d4ebff;}#sk-container-id-4 div.sk-serial::before {content: \"\";position: absolute;border-left: 1px solid gray;box-sizing: border-box;top: 0;bottom: 0;left: 50%;z-index: 0;}#sk-container-id-4 div.sk-serial {display: flex;flex-direction: column;align-items: center;background-color: white;padding-right: 0.2em;padding-left: 0.2em;position: relative;}#sk-container-id-4 div.sk-item {position: relative;z-index: 1;}#sk-container-id-4 div.sk-parallel {display: flex;align-items: stretch;justify-content: center;background-color: white;position: relative;}#sk-container-id-4 div.sk-item::before, #sk-container-id-4 div.sk-parallel-item::before {content: \"\";position: absolute;border-left: 1px solid gray;box-sizing: border-box;top: 0;bottom: 0;left: 50%;z-index: -1;}#sk-container-id-4 div.sk-parallel-item {display: flex;flex-direction: column;z-index: 1;position: relative;background-color: white;}#sk-container-id-4 div.sk-parallel-item:first-child::after {align-self: flex-end;width: 50%;}#sk-container-id-4 div.sk-parallel-item:last-child::after {align-self: flex-start;width: 50%;}#sk-container-id-4 div.sk-parallel-item:only-child::after {width: 0;}#sk-container-id-4 div.sk-dashed-wrapped {border: 1px dashed gray;margin: 0 0.4em 0.5em 0.4em;box-sizing: border-box;padding-bottom: 0.4em;background-color: white;}#sk-container-id-4 div.sk-label label {font-family: monospace;font-weight: bold;display: inline-block;line-height: 1.2em;}#sk-container-id-4 div.sk-label-container {text-align: center;}#sk-container-id-4 div.sk-container {/* jupyter's `normalize.less` sets `[hidden] { display: none; }` but bootstrap.min.css set `[hidden] { display: none !important; }` so we also need the `!important` here to be able to override the default hidden behavior on the sphinx rendered scikit-learn.org. See: https://github.com/scikit-learn/scikit-learn/issues/21755 */display: inline-block !important;position: relative;}#sk-container-id-4 div.sk-text-repr-fallback {display: none;}</style><div id=\"sk-container-id-4\" class=\"sk-top-container\"><div class=\"sk-text-repr-fallback\"><pre>KNeighborsRegressor()</pre><b>In a Jupyter environment, please rerun this cell to show the HTML representation or trust the notebook. <br />On GitHub, the HTML representation is unable to render, please try loading this page with nbviewer.org.</b></div><div class=\"sk-container\" hidden><div class=\"sk-item\"><div class=\"sk-estimator sk-toggleable\"><input class=\"sk-toggleable__control sk-hidden--visually\" id=\"sk-estimator-id-6\" type=\"checkbox\" checked><label for=\"sk-estimator-id-6\" class=\"sk-toggleable__label sk-toggleable__label-arrow\">KNeighborsRegressor</label><div class=\"sk-toggleable__content\"><pre>KNeighborsRegressor()</pre></div></div></div></div></div>"
      ],
      "text/plain": [
       "KNeighborsRegressor()"
      ]
     },
     "execution_count": 23,
     "metadata": {},
     "output_type": "execute_result"
    }
   ],
   "source": [
    "# Train the KNN model\n",
    "knn_model.fit(X_train, y_train)"
   ]
  },
  {
   "cell_type": "code",
   "execution_count": 24,
   "id": "22ead891",
   "metadata": {},
   "outputs": [],
   "source": [
    "# Predict on the testing set\n",
    "y_knn_pred = knn_model.predict(X_test)"
   ]
  },
  {
   "cell_type": "code",
   "execution_count": 25,
   "id": "9cda2d53",
   "metadata": {},
   "outputs": [],
   "source": [
    "# Calculate the mean squared error for the KNN predictions\n",
    "mse_knn = mean_squared_error(y_test, y_knn_pred)"
   ]
  },
  {
   "cell_type": "code",
   "execution_count": 26,
   "id": "889ed9c2",
   "metadata": {},
   "outputs": [
    {
     "name": "stdout",
     "output_type": "stream",
     "text": [
      "Mean Squared Error for KNN Regressor on the test set:\n",
      "0.31\n"
     ]
    }
   ],
   "source": [
    "# Output the mean squared error for the KNN model\n",
    "print('Mean Squared Error for KNN Regressor on the test set:')\n",
    "print(mse_knn)"
   ]
  },
  {
   "cell_type": "markdown",
   "id": "66fcdb0c",
   "metadata": {},
   "source": [
    "Mean Squared Error for KNN Regressor on the test set:\n",
    "0.31\n",
    "The Mean Squared Error (MSE) for the K-Nearest Neighbors Regressor indicates the average squared difference between the estimated values and the actual value."
   ]
  },
  {
   "cell_type": "markdown",
   "id": "b5f0acfc",
   "metadata": {},
   "source": [
    "To evaluate the models using the Root Mean Square Error (RMSE) and other relevant metrics, I will calculate the RMSE for each of the models we have trained: AdaBoost, XGBoost, Linear Regression with Polynomial Features, and K-Nearest Neighbors (KNN) Regressor. Additionally, I will consider other metrics that may be relevant, such as R-squared (R²) to measure the proportion of variance explained by the model, and Mean Absolute Error (MAE) for a linear interpretation of the average error magnitude.\n",
    "Here's the plan of execution:\n",
    "\n",
    "    Calculate RMSE for each model.\n",
    "    Calculate R² for each model.\n",
    "    Calculate MAE for each model.\n",
    "\n",
    "I will start with the first step, calculating the RMSE for each model. Let's proceed."
   ]
  },
  {
   "cell_type": "code",
   "execution_count": 27,
   "id": "5ef5a036",
   "metadata": {},
   "outputs": [],
   "source": [
    "# Calculate RMSE for each model\n",
    "rmse_ada = np.sqrt(mean_squared_error(y_test, y_ada_pred))\n",
    "rmse_xgb = np.sqrt(mean_squared_error(y_test, y_xgb_pred))\n",
    "rmse_poly = np.sqrt(mean_squared_error(y_test, y_poly_pred))\n",
    "rmse_knn = np.sqrt(mean_squared_error(y_test, y_knn_pred))"
   ]
  },
  {
   "cell_type": "code",
   "execution_count": 28,
   "id": "9dfee99b",
   "metadata": {},
   "outputs": [],
   "source": [
    "# Calculate R-squared for each model\n",
    "r2_ada = r2_score(y_test, y_ada_pred)\n",
    "r2_xgb = r2_score(y_test, y_xgb_pred)\n",
    "r2_poly = r2_score(y_test, y_poly_pred)\n",
    "r2_knn = r2_score(y_test, y_knn_pred)"
   ]
  },
  {
   "cell_type": "code",
   "execution_count": 29,
   "id": "db592bb6",
   "metadata": {},
   "outputs": [],
   "source": [
    "# Calculate MAE for each model\n",
    "mae_ada = mean_absolute_error(y_test, y_ada_pred)\n",
    "mae_xgb = mean_absolute_error(y_test, y_xgb_pred)\n",
    "mae_poly = mean_absolute_error(y_test, y_poly_pred)\n",
    "mae_knn = mean_absolute_error(y_test, y_knn_pred)"
   ]
  },
  {
   "cell_type": "code",
   "execution_count": 30,
   "id": "a5a208d9",
   "metadata": {},
   "outputs": [
    {
     "name": "stdout",
     "output_type": "stream",
     "text": [
      "RMSE for AdaBoost: 0.44378841831458055\n",
      "RMSE for XGBoost: 0.4861150393523365\n",
      "RMSE for Linear Regression with Polynomial Features: 0.45501922394139727\n",
      "RMSE for KNN: 0.5567764362830022\n"
     ]
    }
   ],
   "source": [
    "# Print out the evaluation metrics for each model\n",
    "print('RMSE for AdaBoost:', rmse_ada)\n",
    "print('RMSE for XGBoost:', rmse_xgb)\n",
    "print('RMSE for Linear Regression with Polynomial Features:', rmse_poly)\n",
    "print('RMSE for KNN:', rmse_knn)"
   ]
  },
  {
   "cell_type": "code",
   "execution_count": 31,
   "id": "fa658dd9",
   "metadata": {},
   "outputs": [
    {
     "name": "stdout",
     "output_type": "stream",
     "text": [
      "R-squared for AdaBoost: 0.0621516179516326\n",
      "R-squared for XGBoost: -0.1252753880215416\n",
      "R-squared for Linear Regression with Polynomial Features: 0.014083361160802554\n",
      "R-squared for KNN: -0.4761904761904765\n"
     ]
    }
   ],
   "source": [
    "print('R-squared for AdaBoost:', r2_ada)\n",
    "print('R-squared for XGBoost:', r2_xgb)\n",
    "print('R-squared for Linear Regression with Polynomial Features:', r2_poly)\n",
    "print('R-squared for KNN:', r2_knn)"
   ]
  },
  {
   "cell_type": "code",
   "execution_count": 32,
   "id": "2d58089d",
   "metadata": {},
   "outputs": [
    {
     "name": "stdout",
     "output_type": "stream",
     "text": [
      "MAE for AdaBoost: 0.3652231537821371\n",
      "MAE for XGBoost: 0.3796152263879776\n",
      "MAE for Linear Regression with Polynomial Features: 0.3987940809566293\n",
      "MAE for KNN: 0.4699999999999999\n"
     ]
    }
   ],
   "source": [
    "print('MAE for AdaBoost:', mae_ada)\n",
    "print('MAE for XGBoost:', mae_xgb)\n",
    "print('MAE for Linear Regression with Polynomial Features:', mae_poly)\n",
    "print('MAE for KNN:', mae_knn)"
   ]
  },
  {
   "cell_type": "markdown",
   "id": "5e496e39",
   "metadata": {},
   "source": [
    "The evaluation metrics for each model have been calculated, including RMSE, R-squared, and MAE. These metrics provide a comprehensive view of the models' performance, with RMSE indicating the standard deviation of the residuals, R-squared showing the proportion of variance explained by the model, and MAE giving the average magnitude of the errors in a set of predictions."
   ]
  },
  {
   "cell_type": "code",
   "execution_count": 33,
   "id": "e601f4ae",
   "metadata": {},
   "outputs": [],
   "source": [
    "# Merge errors, failures, and maintenance data with telemetry data\n",
    "merged_df = telemetry_df.merge(errors_df, on=['datetime', 'machineID'], how='left')\n",
    "merged_df = merged_df.merge(failures_df, on=['datetime', 'machineID'], how='left')\n",
    "merged_df = merged_df.merge(maint_df, on=['datetime', 'machineID'], how='left')"
   ]
  },
  {
   "cell_type": "code",
   "execution_count": 34,
   "id": "ae6aebcb",
   "metadata": {},
   "outputs": [],
   "source": [
    "# Merge the resulting dataset with the machines data\n",
    "merged_df = merged_df.merge(machines_df, on='machineID', how='left')"
   ]
  },
  {
   "cell_type": "code",
   "execution_count": 35,
   "id": "b04411fd",
   "metadata": {},
   "outputs": [],
   "source": [
    "# Sort by datetime\n",
    "telemetry_df.sort_values(by='datetime', inplace=True)"
   ]
  },
  {
   "cell_type": "code",
   "execution_count": 36,
   "id": "1660b900",
   "metadata": {},
   "outputs": [
    {
     "name": "stdout",
     "output_type": "stream",
     "text": [
      "             datetime  machineID        volt      rotate    pressure  \\\n",
      "0 2015-01-01 06:00:00          1  176.217853  418.504078  113.077935   \n",
      "1 2015-01-01 07:00:00          1  162.879223  402.747490   95.460525   \n",
      "2 2015-01-01 08:00:00          1  170.989902  527.349825   75.237905   \n",
      "3 2015-01-01 09:00:00          1  162.462833  346.149335  109.248561   \n",
      "4 2015-01-01 10:00:00          1  157.610021  435.376873  111.886648   \n",
      "\n",
      "   vibration errorID failure comp   model  age  \n",
      "0  45.087686     NaN     NaN  NaN  model3   18  \n",
      "1  43.413973     NaN     NaN  NaN  model3   18  \n",
      "2  34.178847     NaN     NaN  NaN  model3   18  \n",
      "3  41.122144     NaN     NaN  NaN  model3   18  \n",
      "4  25.990511     NaN     NaN  NaN  model3   18  \n"
     ]
    }
   ],
   "source": [
    "# Show the head of the merged dataframe\n",
    "print(merged_df.head())"
   ]
  },
  {
   "cell_type": "markdown",
   "id": "90b4e3e9",
   "metadata": {},
   "source": [
    "To proceed with Time Series Forecasting Models, we will focus on the telemetry data, specifically on one of the sensor readings such as 'volt'. We will:\n",
    "\n",
    "    Prepare the telemetry data for time series analysis by resampling it to a daily frequency.\n",
    "    Split the data into training and test sets.\n",
    "    Choose a forecasting model suitable for the data, such as ARIMA (AutoRegressive Integrated Moving Average).\n",
    "    Train the model on the training set.\n",
    "    Make predictions on the test set.\n",
    "    Evaluate the model's performance using appropriate metrics.\n",
    "\n",
    "Let's start by preparing the data and selecting a model for forecasting."
   ]
  },
  {
   "cell_type": "code",
   "execution_count": 37,
   "id": "06180ab1",
   "metadata": {},
   "outputs": [
    {
     "data": {
      "text/html": [
       "<div>\n",
       "<style scoped>\n",
       "    .dataframe tbody tr th:only-of-type {\n",
       "        vertical-align: middle;\n",
       "    }\n",
       "\n",
       "    .dataframe tbody tr th {\n",
       "        vertical-align: top;\n",
       "    }\n",
       "\n",
       "    .dataframe thead th {\n",
       "        text-align: right;\n",
       "    }\n",
       "</style>\n",
       "<table border=\"1\" class=\"dataframe\">\n",
       "  <thead>\n",
       "    <tr style=\"text-align: right;\">\n",
       "      <th></th>\n",
       "      <th>machineID</th>\n",
       "      <th>volt</th>\n",
       "      <th>rotate</th>\n",
       "      <th>pressure</th>\n",
       "      <th>vibration</th>\n",
       "    </tr>\n",
       "    <tr>\n",
       "      <th>datetime</th>\n",
       "      <th></th>\n",
       "      <th></th>\n",
       "      <th></th>\n",
       "      <th></th>\n",
       "      <th></th>\n",
       "    </tr>\n",
       "  </thead>\n",
       "  <tbody>\n",
       "    <tr>\n",
       "      <th>2015-01-01</th>\n",
       "      <td>50.5</td>\n",
       "      <td>173.056591</td>\n",
       "      <td>443.745266</td>\n",
       "      <td>102.328359</td>\n",
       "      <td>40.559718</td>\n",
       "    </tr>\n",
       "    <tr>\n",
       "      <th>2015-01-02</th>\n",
       "      <td>50.5</td>\n",
       "      <td>171.522218</td>\n",
       "      <td>444.755389</td>\n",
       "      <td>100.694954</td>\n",
       "      <td>40.723465</td>\n",
       "    </tr>\n",
       "    <tr>\n",
       "      <th>2015-01-03</th>\n",
       "      <td>50.5</td>\n",
       "      <td>170.587434</td>\n",
       "      <td>443.522215</td>\n",
       "      <td>100.735822</td>\n",
       "      <td>40.748247</td>\n",
       "    </tr>\n",
       "    <tr>\n",
       "      <th>2015-01-04</th>\n",
       "      <td>50.5</td>\n",
       "      <td>170.413780</td>\n",
       "      <td>445.387207</td>\n",
       "      <td>101.114545</td>\n",
       "      <td>40.433525</td>\n",
       "    </tr>\n",
       "    <tr>\n",
       "      <th>2015-01-05</th>\n",
       "      <td>50.5</td>\n",
       "      <td>170.896062</td>\n",
       "      <td>447.455870</td>\n",
       "      <td>101.251780</td>\n",
       "      <td>40.313698</td>\n",
       "    </tr>\n",
       "  </tbody>\n",
       "</table>\n",
       "</div>"
      ],
      "text/plain": [
       "            machineID        volt      rotate    pressure  vibration\n",
       "datetime                                                            \n",
       "2015-01-01       50.5  173.056591  443.745266  102.328359  40.559718\n",
       "2015-01-02       50.5  171.522218  444.755389  100.694954  40.723465\n",
       "2015-01-03       50.5  170.587434  443.522215  100.735822  40.748247\n",
       "2015-01-04       50.5  170.413780  445.387207  101.114545  40.433525\n",
       "2015-01-05       50.5  170.896062  447.455870  101.251780  40.313698"
      ]
     },
     "execution_count": 37,
     "metadata": {},
     "output_type": "execute_result"
    }
   ],
   "source": [
    "# Resample the telemetry data to daily frequency, taking the mean for each day\n",
    "telemetry_daily = telemetry_df.resample('D', on='datetime').mean()\n",
    "telemetry_daily.head()"
   ]
  },
  {
   "cell_type": "code",
   "execution_count": 38,
   "id": "fbff513f",
   "metadata": {},
   "outputs": [],
   "source": [
    "# Split the data into training and test sets\n",
    "train_data = telemetry_daily['volt'][:-30]  # All data except the last 30 days\n",
    "test_data = telemetry_daily['volt'][-30:]  # The last 30 days"
   ]
  },
  {
   "cell_type": "code",
   "execution_count": 39,
   "id": "11ffb9fb",
   "metadata": {},
   "outputs": [],
   "source": [
    "# Define the SARIMAX model using a simple seasonal order\n",
    "model = SARIMAX(train_data, order=(1, 1, 1), seasonal_order=(1, 1, 1, 7))"
   ]
  },
  {
   "cell_type": "code",
   "execution_count": 40,
   "id": "294d8e15",
   "metadata": {},
   "outputs": [
    {
     "name": "stderr",
     "output_type": "stream",
     "text": [
      "C:\\Users\\fabia\\AppData\\Local\\anaconda3\\lib\\site-packages\\statsmodels\\tsa\\statespace\\sarimax.py:978: UserWarning: Non-invertible starting MA parameters found. Using zeros as starting parameters.\n",
      "  warn('Non-invertible starting MA parameters found.'\n"
     ]
    }
   ],
   "source": [
    "# Fit the model\n",
    "model_fit = model.fit(disp=False)"
   ]
  },
  {
   "cell_type": "code",
   "execution_count": 41,
   "id": "cdcaff48",
   "metadata": {},
   "outputs": [],
   "source": [
    "# Make predictions\n",
    "predictions = model_fit.predict(start=len(train_data), end=len(train_data)+len(test_data)-1)"
   ]
  },
  {
   "cell_type": "code",
   "execution_count": 42,
   "id": "3884b817",
   "metadata": {},
   "outputs": [],
   "source": [
    "# Calculate the root mean squared error\n",
    "rmse = sqrt(mean_squared_error(test_data, predictions))"
   ]
  },
  {
   "cell_type": "code",
   "execution_count": 43,
   "id": "c9c7f58a",
   "metadata": {},
   "outputs": [
    {
     "name": "stdout",
     "output_type": "stream",
     "text": [
      "The Root Mean Squared Error of our forecasts is: 0.7156053412290211\n"
     ]
    }
   ],
   "source": [
    "# Output the RMSE\n",
    "print('The Root Mean Squared Error of our forecasts is: ' + str(rmse))"
   ]
  },
  {
   "cell_type": "markdown",
   "id": "f1ad05aa",
   "metadata": {},
   "source": [
    "The Root Mean Squared Error (RMSE) of our forecasts is 0.7157. This metric helps to understand the average magnitude of the errors between the predicted and actual values in the voltage readings, with a lower RMSE indicating better fit."
   ]
  },
  {
   "cell_type": "markdown",
   "id": "665ba73b",
   "metadata": {},
   "source": [
    "To develop a classification model using XGBoost, we will follow these steps:\n",
    "\n",
    "    Prepare the dataset for classification by selecting relevant features and the target variable.\n",
    "    Encode categorical variables if necessary.\n",
    "    Split the dataset into training and test sets.\n",
    "    Initialize the XGBoost classifier.\n",
    "    Train the classifier on the training set.\n",
    "    Evaluate the classifier on the test set using appropriate metrics such as accuracy, precision, recall, and F1-score.\n",
    "    Output the evaluation metrics.\n",
    "\n",
    "Let's begin by preparing the dataset for the classification model."
   ]
  },
  {
   "cell_type": "code",
   "execution_count": 44,
   "id": "608d4253",
   "metadata": {},
   "outputs": [
    {
     "data": {
      "text/plain": [
       "array(['none', 'comp4', 'comp1', 'comp2', 'comp3'], dtype=object)"
      ]
     },
     "execution_count": 44,
     "metadata": {},
     "output_type": "execute_result"
    }
   ],
   "source": [
    "# Prepare the dataset for classification\n",
    "# For this example, let's predict failures based on the telemetry data\n",
    "# We will use the 'failure' column as the target variable\n",
    "merged_df['failure'] = merged_df['failure'].fillna('none')\n",
    "# show possible values in failure column\n",
    "merged_df.failure.unique()"
   ]
  },
  {
   "cell_type": "code",
   "execution_count": 45,
   "id": "afc60df2",
   "metadata": {},
   "outputs": [
    {
     "data": {
      "text/plain": [
       "array([4, 3, 0, 1, 2])"
      ]
     },
     "execution_count": 45,
     "metadata": {},
     "output_type": "execute_result"
    }
   ],
   "source": [
    "# Encode the categorical 'failure' column\n",
    "label_encoder = LabelEncoder()\n",
    "merged_df['failure_encoded'] = label_encoder.fit_transform(merged_df['failure'])\n",
    "# show possible values in failure_encoded column\n",
    "merged_df.failure_encoded.unique()"
   ]
  },
  {
   "cell_type": "code",
   "execution_count": 46,
   "id": "7d08a729",
   "metadata": {},
   "outputs": [],
   "source": [
    "# Select features - for simplicity, we'll use the telemetry data and machine age\n",
    "X = merged_df[['volt', 'rotate', 'pressure', 'vibration', 'age']]\n",
    "y = merged_df['failure_encoded']"
   ]
  },
  {
   "cell_type": "code",
   "execution_count": 47,
   "id": "1afd5065",
   "metadata": {},
   "outputs": [],
   "source": [
    "# Split the data into training and test sets\n",
    "X_train, X_test, y_train, y_test = train_test_split(X, y, test_size=0.2, random_state=42)"
   ]
  },
  {
   "cell_type": "code",
   "execution_count": 48,
   "id": "473a72f9",
   "metadata": {},
   "outputs": [],
   "source": [
    "# Initialize the XGBoost classifier\n",
    "xgb_classifier = XGBClassifier(use_label_encoder=False, eval_metric='mlogloss')"
   ]
  },
  {
   "cell_type": "code",
   "execution_count": 49,
   "id": "5780be46",
   "metadata": {},
   "outputs": [
    {
     "name": "stderr",
     "output_type": "stream",
     "text": [
      "C:\\Users\\fabia\\AppData\\Local\\anaconda3\\lib\\site-packages\\xgboost\\data.py:250: FutureWarning: pandas.Int64Index is deprecated and will be removed from pandas in a future version. Use pandas.Index with the appropriate dtype instead.\n",
      "  elif isinstance(data.columns, (pd.Int64Index, pd.RangeIndex)):\n"
     ]
    },
    {
     "data": {
      "text/html": [
       "<style>#sk-container-id-5 {color: black;background-color: white;}#sk-container-id-5 pre{padding: 0;}#sk-container-id-5 div.sk-toggleable {background-color: white;}#sk-container-id-5 label.sk-toggleable__label {cursor: pointer;display: block;width: 100%;margin-bottom: 0;padding: 0.3em;box-sizing: border-box;text-align: center;}#sk-container-id-5 label.sk-toggleable__label-arrow:before {content: \"▸\";float: left;margin-right: 0.25em;color: #696969;}#sk-container-id-5 label.sk-toggleable__label-arrow:hover:before {color: black;}#sk-container-id-5 div.sk-estimator:hover label.sk-toggleable__label-arrow:before {color: black;}#sk-container-id-5 div.sk-toggleable__content {max-height: 0;max-width: 0;overflow: hidden;text-align: left;background-color: #f0f8ff;}#sk-container-id-5 div.sk-toggleable__content pre {margin: 0.2em;color: black;border-radius: 0.25em;background-color: #f0f8ff;}#sk-container-id-5 input.sk-toggleable__control:checked~div.sk-toggleable__content {max-height: 200px;max-width: 100%;overflow: auto;}#sk-container-id-5 input.sk-toggleable__control:checked~label.sk-toggleable__label-arrow:before {content: \"▾\";}#sk-container-id-5 div.sk-estimator input.sk-toggleable__control:checked~label.sk-toggleable__label {background-color: #d4ebff;}#sk-container-id-5 div.sk-label input.sk-toggleable__control:checked~label.sk-toggleable__label {background-color: #d4ebff;}#sk-container-id-5 input.sk-hidden--visually {border: 0;clip: rect(1px 1px 1px 1px);clip: rect(1px, 1px, 1px, 1px);height: 1px;margin: -1px;overflow: hidden;padding: 0;position: absolute;width: 1px;}#sk-container-id-5 div.sk-estimator {font-family: monospace;background-color: #f0f8ff;border: 1px dotted black;border-radius: 0.25em;box-sizing: border-box;margin-bottom: 0.5em;}#sk-container-id-5 div.sk-estimator:hover {background-color: #d4ebff;}#sk-container-id-5 div.sk-parallel-item::after {content: \"\";width: 100%;border-bottom: 1px solid gray;flex-grow: 1;}#sk-container-id-5 div.sk-label:hover label.sk-toggleable__label {background-color: #d4ebff;}#sk-container-id-5 div.sk-serial::before {content: \"\";position: absolute;border-left: 1px solid gray;box-sizing: border-box;top: 0;bottom: 0;left: 50%;z-index: 0;}#sk-container-id-5 div.sk-serial {display: flex;flex-direction: column;align-items: center;background-color: white;padding-right: 0.2em;padding-left: 0.2em;position: relative;}#sk-container-id-5 div.sk-item {position: relative;z-index: 1;}#sk-container-id-5 div.sk-parallel {display: flex;align-items: stretch;justify-content: center;background-color: white;position: relative;}#sk-container-id-5 div.sk-item::before, #sk-container-id-5 div.sk-parallel-item::before {content: \"\";position: absolute;border-left: 1px solid gray;box-sizing: border-box;top: 0;bottom: 0;left: 50%;z-index: -1;}#sk-container-id-5 div.sk-parallel-item {display: flex;flex-direction: column;z-index: 1;position: relative;background-color: white;}#sk-container-id-5 div.sk-parallel-item:first-child::after {align-self: flex-end;width: 50%;}#sk-container-id-5 div.sk-parallel-item:last-child::after {align-self: flex-start;width: 50%;}#sk-container-id-5 div.sk-parallel-item:only-child::after {width: 0;}#sk-container-id-5 div.sk-dashed-wrapped {border: 1px dashed gray;margin: 0 0.4em 0.5em 0.4em;box-sizing: border-box;padding-bottom: 0.4em;background-color: white;}#sk-container-id-5 div.sk-label label {font-family: monospace;font-weight: bold;display: inline-block;line-height: 1.2em;}#sk-container-id-5 div.sk-label-container {text-align: center;}#sk-container-id-5 div.sk-container {/* jupyter's `normalize.less` sets `[hidden] { display: none; }` but bootstrap.min.css set `[hidden] { display: none !important; }` so we also need the `!important` here to be able to override the default hidden behavior on the sphinx rendered scikit-learn.org. See: https://github.com/scikit-learn/scikit-learn/issues/21755 */display: inline-block !important;position: relative;}#sk-container-id-5 div.sk-text-repr-fallback {display: none;}</style><div id=\"sk-container-id-5\" class=\"sk-top-container\"><div class=\"sk-text-repr-fallback\"><pre>XGBClassifier(base_score=0.5, booster=&#x27;gbtree&#x27;, colsample_bylevel=1,\n",
       "              colsample_bynode=1, colsample_bytree=1, enable_categorical=False,\n",
       "              eval_metric=&#x27;mlogloss&#x27;, gamma=0, gpu_id=-1, importance_type=None,\n",
       "              interaction_constraints=&#x27;&#x27;, learning_rate=0.300000012,\n",
       "              max_delta_step=0, max_depth=6, min_child_weight=1, missing=nan,\n",
       "              monotone_constraints=&#x27;()&#x27;, n_estimators=100, n_jobs=12,\n",
       "              num_parallel_tree=1, objective=&#x27;multi:softprob&#x27;, predictor=&#x27;auto&#x27;,\n",
       "              random_state=0, reg_alpha=0, reg_lambda=1, scale_pos_weight=None,\n",
       "              subsample=1, tree_method=&#x27;exact&#x27;, use_label_encoder=False,\n",
       "              validate_parameters=1, ...)</pre><b>In a Jupyter environment, please rerun this cell to show the HTML representation or trust the notebook. <br />On GitHub, the HTML representation is unable to render, please try loading this page with nbviewer.org.</b></div><div class=\"sk-container\" hidden><div class=\"sk-item\"><div class=\"sk-estimator sk-toggleable\"><input class=\"sk-toggleable__control sk-hidden--visually\" id=\"sk-estimator-id-7\" type=\"checkbox\" checked><label for=\"sk-estimator-id-7\" class=\"sk-toggleable__label sk-toggleable__label-arrow\">XGBClassifier</label><div class=\"sk-toggleable__content\"><pre>XGBClassifier(base_score=0.5, booster=&#x27;gbtree&#x27;, colsample_bylevel=1,\n",
       "              colsample_bynode=1, colsample_bytree=1, enable_categorical=False,\n",
       "              eval_metric=&#x27;mlogloss&#x27;, gamma=0, gpu_id=-1, importance_type=None,\n",
       "              interaction_constraints=&#x27;&#x27;, learning_rate=0.300000012,\n",
       "              max_delta_step=0, max_depth=6, min_child_weight=1, missing=nan,\n",
       "              monotone_constraints=&#x27;()&#x27;, n_estimators=100, n_jobs=12,\n",
       "              num_parallel_tree=1, objective=&#x27;multi:softprob&#x27;, predictor=&#x27;auto&#x27;,\n",
       "              random_state=0, reg_alpha=0, reg_lambda=1, scale_pos_weight=None,\n",
       "              subsample=1, tree_method=&#x27;exact&#x27;, use_label_encoder=False,\n",
       "              validate_parameters=1, ...)</pre></div></div></div></div></div>"
      ],
      "text/plain": [
       "XGBClassifier(base_score=0.5, booster='gbtree', colsample_bylevel=1,\n",
       "              colsample_bynode=1, colsample_bytree=1, enable_categorical=False,\n",
       "              eval_metric='mlogloss', gamma=0, gpu_id=-1, importance_type=None,\n",
       "              interaction_constraints='', learning_rate=0.300000012,\n",
       "              max_delta_step=0, max_depth=6, min_child_weight=1, missing=nan,\n",
       "              monotone_constraints='()', n_estimators=100, n_jobs=12,\n",
       "              num_parallel_tree=1, objective='multi:softprob', predictor='auto',\n",
       "              random_state=0, reg_alpha=0, reg_lambda=1, scale_pos_weight=None,\n",
       "              subsample=1, tree_method='exact', use_label_encoder=False,\n",
       "              validate_parameters=1, ...)"
      ]
     },
     "execution_count": 49,
     "metadata": {},
     "output_type": "execute_result"
    }
   ],
   "source": [
    "# Train the classifier\n",
    "xgb_classifier.fit(X_train, y_train)"
   ]
  },
  {
   "cell_type": "code",
   "execution_count": 50,
   "id": "aafde16d",
   "metadata": {},
   "outputs": [],
   "source": [
    "# Make predictions\n",
    "y_pred = xgb_classifier.predict(X_test)"
   ]
  },
  {
   "cell_type": "code",
   "execution_count": 51,
   "id": "68800974",
   "metadata": {},
   "outputs": [],
   "source": [
    "# Evaluate the classifier\n",
    "accuracy = accuracy_score(y_test, y_pred)\n",
    "precision = precision_score(y_test, y_pred, average='macro')\n",
    "recall = recall_score(y_test, y_pred, average='macro')\n",
    "f1 = f1_score(y_test, y_pred, average='macro')"
   ]
  },
  {
   "cell_type": "code",
   "execution_count": 52,
   "id": "9cee89aa",
   "metadata": {},
   "outputs": [
    {
     "name": "stdout",
     "output_type": "stream",
     "text": [
      "Accuracy: 0.9987631239953945\n",
      "Precision: 0.4981018874808316\n",
      "Recall: 0.23479847949956648\n",
      "F1 Score: 0.2618666168746158\n"
     ]
    }
   ],
   "source": [
    "# Output the evaluation metrics\n",
    "print('Accuracy:', accuracy)\n",
    "print('Precision:', precision)\n",
    "print('Recall:', recall)\n",
    "print('F1 Score:', f1)"
   ]
  },
  {
   "cell_type": "markdown",
   "id": "d7829de2",
   "metadata": {},
   "source": [
    "The high accuracy suggests that the model is performing well overall. However, the precision, recall, and F1 score are relatively low, which may indicate that the model is not as effective at predicting all classes of the target variable. This could be due to class imbalance or other factors.Further investigation and model tuning might be necessary to improve these metrics. "
   ]
  },
  {
   "cell_type": "markdown",
   "id": "b1189f0c",
   "metadata": {},
   "source": [
    "Let's start by investigating the class distribution to address potential class imbalance issues."
   ]
  },
  {
   "cell_type": "code",
   "execution_count": 53,
   "id": "df4492cb",
   "metadata": {},
   "outputs": [
    {
     "name": "stderr",
     "output_type": "stream",
     "text": [
      "100%|██████████| 5/5 [00:00<?, ?it/s]\n"
     ]
    },
    {
     "data": {
      "text/plain": [
       "4    876087\n",
       "1       386\n",
       "0       291\n",
       "3       255\n",
       "2       190\n",
       "Name: failure_encoded, dtype: int64"
      ]
     },
     "execution_count": 53,
     "metadata": {},
     "output_type": "execute_result"
    }
   ],
   "source": [
    "tqdm.pandas()\n",
    "\n",
    "y.value_counts().progress_apply(lambda x: x)"
   ]
  },
  {
   "cell_type": "code",
   "execution_count": 54,
   "id": "c0ab99bf",
   "metadata": {},
   "outputs": [
    {
     "name": "stdout",
     "output_type": "stream",
     "text": [
      "none     876087\n",
      "comp2       386\n",
      "comp1       291\n",
      "comp4       255\n",
      "comp3       190\n",
      "Name: failure, dtype: int64\n"
     ]
    }
   ],
   "source": [
    "# Check the distribution of the target classes\n",
    "class_distribution = merged_df['failure'].value_counts()\n",
    "\n",
    "# Display the class distribution\n",
    "print(class_distribution)"
   ]
  },
  {
   "cell_type": "markdown",
   "id": "87f37303",
   "metadata": {},
   "source": [
    "To determine the feature importance from the XGBoost classifier, we will:\n",
    "\n",
    "    Extract feature importance scores from the trained model.\n",
    "    Create a chart to visualize the importance of each feature.\n",
    "\n",
    "I will now execute the code to obtain and visualize the feature importance."
   ]
  },
  {
   "cell_type": "code",
   "execution_count": 55,
   "id": "eb7e9a04",
   "metadata": {},
   "outputs": [],
   "source": [
    "# Get feature importances\n",
    "feature_importance = xgb_classifier.feature_importances_"
   ]
  },
  {
   "cell_type": "code",
   "execution_count": 56,
   "id": "c3f1a994",
   "metadata": {},
   "outputs": [],
   "source": [
    "# Summarize feature importances\n",
    "feature_names = X_train.columns"
   ]
  },
  {
   "cell_type": "code",
   "execution_count": 57,
   "id": "6ca3c9da",
   "metadata": {},
   "outputs": [
    {
     "data": {
      "image/png": "[encoded data removed]",
      "text/plain": [
       "<Figure size 640x480 with 1 Axes>"
      ]
     },
     "metadata": {},
     "output_type": "display_data"
    }
   ],
   "source": [
    "# Create a bar chart\n",
    "plt.bar(feature_names, feature_importance)\n",
    "plt.title('Feature Importance')\n",
    "plt.xlabel('Feature')\n",
    "plt.ylabel('Importance')\n",
    "plt.xticks(rotation=45)\n",
    "plt.show()"
   ]
  },
  {
   "cell_type": "markdown",
   "id": "807d619b",
   "metadata": {},
   "source": [
    "The bar chart above displays the feature importance as determined by the XGBoost classifier. Each bar represents the importance of a feature in making predictions. The exact values of importance are not displayed here, but the relative lengths of the bars provide a visual comparison of which features are more influential in the model's decisions."
   ]
  },
  {
   "cell_type": "markdown",
   "id": "e2392922",
   "metadata": {},
   "source": [
    "For model tuning, we will perform hyperparameter optimization for the XGBoost classifier. The process will involve:\n",
    "\n",
    "    Defining a range of hyperparameters to test.\n",
    "    Using a strategy like grid search or random search to explore different combinations of parameters.\n",
    "    Evaluating the performance of the model with each combination using cross-validation.\n",
    "    Selecting the combination that results in the best performance.\n",
    "\n",
    "I will now proceed with the hyperparameter tuning for the XGBoost model."
   ]
  },
  {
   "cell_type": "code",
   "execution_count": 58,
   "id": "acf8111d",
   "metadata": {},
   "outputs": [
    {
     "name": "stdout",
     "output_type": "stream",
     "text": [
      "Target class distribution:\n",
      "none     0.998721\n",
      "comp2    0.000440\n",
      "comp1    0.000332\n",
      "comp4    0.000291\n",
      "comp3    0.000217\n",
      "Name: failure, dtype: float64\n"
     ]
    }
   ],
   "source": [
    "# Check the distribution of the target classes\n",
    "print('Target class distribution:')\n",
    "print(merged_df['failure'].value_counts(normalize=True))"
   ]
  },
  {
   "cell_type": "code",
   "execution_count": 59,
   "id": "134c4f5e",
   "metadata": {},
   "outputs": [],
   "source": [
    "# Split the data into features and target\n",
    "X = merged_df.drop(columns=['failure'])\n",
    "X = pd.get_dummies(X, drop_first=True)  # Convert categorical variables to dummy variables\n",
    "y = merged_df['failure']"
   ]
  },
  {
   "cell_type": "code",
   "execution_count": 60,
   "id": "89f7416c",
   "metadata": {},
   "outputs": [
    {
     "name": "stderr",
     "output_type": "stream",
     "text": [
      "C:\\Users\\fabia\\AppData\\Local\\anaconda3\\lib\\site-packages\\sklearn\\model_selection\\_search.py:305: UserWarning: The total space of parameters 1 is smaller than n_iter=10. Running 1 iterations. For exhaustive searches, use GridSearchCV.\n",
      "  warnings.warn(\n"
     ]
    },
    {
     "name": "stdout",
     "output_type": "stream",
     "text": [
      "Fitting 5 folds for each of 1 candidates, totalling 5 fits\n"
     ]
    },
    {
     "name": "stderr",
     "output_type": "stream",
     "text": [
      "C:\\Users\\fabia\\AppData\\Local\\anaconda3\\lib\\site-packages\\xgboost\\data.py:250: FutureWarning: pandas.Int64Index is deprecated and will be removed from pandas in a future version. Use pandas.Index with the appropriate dtype instead.\n",
      "  elif isinstance(data.columns, (pd.Int64Index, pd.RangeIndex)):\n",
      "C:\\Users\\fabia\\AppData\\Local\\anaconda3\\lib\\site-packages\\xgboost\\data.py:250: FutureWarning: pandas.Int64Index is deprecated and will be removed from pandas in a future version. Use pandas.Index with the appropriate dtype instead.\n",
      "  elif isinstance(data.columns, (pd.Int64Index, pd.RangeIndex)):\n"
     ]
    },
    {
     "name": "stdout",
     "output_type": "stream",
     "text": [
      "[0]\tvalidation_0-mlogloss:0.94463\n",
      "[1]\tvalidation_0-mlogloss:0.64114\n",
      "[2]\tvalidation_0-mlogloss:0.45288\n",
      "[3]\tvalidation_0-mlogloss:0.32637\n",
      "[4]\tvalidation_0-mlogloss:0.23820\n",
      "[5]\tvalidation_0-mlogloss:0.17548\n",
      "[6]\tvalidation_0-mlogloss:0.13038\n",
      "[7]\tvalidation_0-mlogloss:0.09767\n",
      "[8]\tvalidation_0-mlogloss:0.07384\n",
      "[9]\tvalidation_0-mlogloss:0.05643\n",
      "[10]\tvalidation_0-mlogloss:0.04371\n",
      "[11]\tvalidation_0-mlogloss:0.03440\n",
      "[12]\tvalidation_0-mlogloss:0.02759\n",
      "[13]\tvalidation_0-mlogloss:0.02262\n",
      "[14]\tvalidation_0-mlogloss:0.01899\n",
      "[15]\tvalidation_0-mlogloss:0.01633\n",
      "[16]\tvalidation_0-mlogloss:0.01440\n",
      "[17]\tvalidation_0-mlogloss:0.01299\n",
      "[18]\tvalidation_0-mlogloss:0.01195\n",
      "[19]\tvalidation_0-mlogloss:0.01120\n",
      "[20]\tvalidation_0-mlogloss:0.01061\n",
      "[21]\tvalidation_0-mlogloss:0.01023\n",
      "[22]\tvalidation_0-mlogloss:0.00994\n",
      "[23]\tvalidation_0-mlogloss:0.00973\n",
      "[24]\tvalidation_0-mlogloss:0.00957\n",
      "[25]\tvalidation_0-mlogloss:0.00944\n",
      "[26]\tvalidation_0-mlogloss:0.00932\n",
      "[27]\tvalidation_0-mlogloss:0.00924\n",
      "[28]\tvalidation_0-mlogloss:0.00916\n",
      "[29]\tvalidation_0-mlogloss:0.00911\n",
      "[30]\tvalidation_0-mlogloss:0.00906\n",
      "[31]\tvalidation_0-mlogloss:0.00901\n",
      "[32]\tvalidation_0-mlogloss:0.00896\n",
      "[33]\tvalidation_0-mlogloss:0.00890\n",
      "[34]\tvalidation_0-mlogloss:0.00888\n",
      "[35]\tvalidation_0-mlogloss:0.00884\n",
      "[36]\tvalidation_0-mlogloss:0.00882\n",
      "[37]\tvalidation_0-mlogloss:0.00879\n",
      "[38]\tvalidation_0-mlogloss:0.00876\n",
      "[39]\tvalidation_0-mlogloss:0.00874\n",
      "[40]\tvalidation_0-mlogloss:0.00872\n",
      "[41]\tvalidation_0-mlogloss:0.00870\n",
      "[42]\tvalidation_0-mlogloss:0.00868\n",
      "[43]\tvalidation_0-mlogloss:0.00866\n",
      "[44]\tvalidation_0-mlogloss:0.00864\n",
      "[45]\tvalidation_0-mlogloss:0.00861\n",
      "[46]\tvalidation_0-mlogloss:0.00857\n",
      "[47]\tvalidation_0-mlogloss:0.00855\n",
      "[48]\tvalidation_0-mlogloss:0.00854\n",
      "[49]\tvalidation_0-mlogloss:0.00852\n",
      "[50]\tvalidation_0-mlogloss:0.00850\n",
      "[51]\tvalidation_0-mlogloss:0.00847\n",
      "[52]\tvalidation_0-mlogloss:0.00845\n",
      "[53]\tvalidation_0-mlogloss:0.00842\n",
      "[54]\tvalidation_0-mlogloss:0.00841\n",
      "[55]\tvalidation_0-mlogloss:0.00839\n",
      "[56]\tvalidation_0-mlogloss:0.00834\n",
      "[57]\tvalidation_0-mlogloss:0.00831\n",
      "[58]\tvalidation_0-mlogloss:0.00828\n",
      "[59]\tvalidation_0-mlogloss:0.00825\n",
      "[60]\tvalidation_0-mlogloss:0.00824\n",
      "[61]\tvalidation_0-mlogloss:0.00822\n",
      "[62]\tvalidation_0-mlogloss:0.00817\n",
      "[63]\tvalidation_0-mlogloss:0.00814\n",
      "[64]\tvalidation_0-mlogloss:0.00812\n",
      "[65]\tvalidation_0-mlogloss:0.00808\n",
      "[66]\tvalidation_0-mlogloss:0.00806\n",
      "[67]\tvalidation_0-mlogloss:0.00803\n",
      "[68]\tvalidation_0-mlogloss:0.00802\n",
      "[69]\tvalidation_0-mlogloss:0.00798\n",
      "[70]\tvalidation_0-mlogloss:0.00796\n",
      "[71]\tvalidation_0-mlogloss:0.00794\n",
      "[72]\tvalidation_0-mlogloss:0.00791\n",
      "[73]\tvalidation_0-mlogloss:0.00791\n",
      "[74]\tvalidation_0-mlogloss:0.00788\n",
      "[75]\tvalidation_0-mlogloss:0.00785\n",
      "[76]\tvalidation_0-mlogloss:0.00783\n",
      "[77]\tvalidation_0-mlogloss:0.00783\n",
      "[78]\tvalidation_0-mlogloss:0.00782\n",
      "[79]\tvalidation_0-mlogloss:0.00779\n",
      "[80]\tvalidation_0-mlogloss:0.00775\n",
      "[81]\tvalidation_0-mlogloss:0.00772\n",
      "[82]\tvalidation_0-mlogloss:0.00770\n",
      "[83]\tvalidation_0-mlogloss:0.00768\n",
      "[84]\tvalidation_0-mlogloss:0.00766\n",
      "[85]\tvalidation_0-mlogloss:0.00764\n",
      "[86]\tvalidation_0-mlogloss:0.00764\n",
      "[87]\tvalidation_0-mlogloss:0.00760\n",
      "[88]\tvalidation_0-mlogloss:0.00757\n",
      "[89]\tvalidation_0-mlogloss:0.00757\n",
      "[90]\tvalidation_0-mlogloss:0.00754\n",
      "[91]\tvalidation_0-mlogloss:0.00751\n",
      "[92]\tvalidation_0-mlogloss:0.00750\n",
      "[93]\tvalidation_0-mlogloss:0.00749\n",
      "[94]\tvalidation_0-mlogloss:0.00747\n",
      "[95]\tvalidation_0-mlogloss:0.00747\n",
      "[96]\tvalidation_0-mlogloss:0.00745\n",
      "[97]\tvalidation_0-mlogloss:0.00743\n",
      "[98]\tvalidation_0-mlogloss:0.00739\n",
      "[99]\tvalidation_0-mlogloss:0.00739\n",
      "Best Parameters:  {}\n",
      "Best Model:  XGBClassifier(base_score=0.5, booster='gbtree', colsample_bylevel=1,\n",
      "              colsample_bynode=1, colsample_bytree=1, enable_categorical=False,\n",
      "              eval_metric='mlogloss', gamma=0, gpu_id=-1, importance_type=None,\n",
      "              interaction_constraints='', learning_rate=0.300000012,\n",
      "              max_delta_step=0, max_depth=6, min_child_weight=1, missing=nan,\n",
      "              monotone_constraints='()', n_estimators=100, n_jobs=-1,\n",
      "              num_class=5, num_parallel_tree=1, objective='multi:softprob',\n",
      "              predictor='auto', random_state=0, reg_alpha=0, reg_lambda=1,\n",
      "              scale_pos_weight=None, subsample=1, tree_method='exact',\n",
      "              use_label_encoder=False, ...)\n"
     ]
    }
   ],
   "source": [
    "# Calculate the number of classes\n",
    "num_classes = len(np.unique(y_train))\n",
    "\n",
    "# Use a simple model for quick testing\n",
    "xgb_classifier = XGBClassifier(use_label_encoder=False, eval_metric='mlogloss', objective='multi:softmax', num_class=num_classes, n_jobs=-1)\n",
    "\n",
    "# Early stopping, because the model I tried before about 12 times just never stopped searching\n",
    "early_stopping_rounds = 10\n",
    "\n",
    "# Random search with cross-validation\n",
    "random_search = RandomizedSearchCV(\n",
    "    xgb_classifier,\n",
    "    param_distributions={\n",
    "#        'n_estimators': [50, 100, 150, 200],\n",
    "#        'max_depth': [3, 5, 7, 9],\n",
    "#        'learning_rate': [0.01, 0.1, 0.2, 0.3],\n",
    "#        'subsample': [0.8, 0.9, 1.0],\n",
    "#        'min_child_weight': [1, 3, 5],\n",
    "#        'gamma': [0, 0.1, 0.2, 0.3, 0.4],\n",
    "#        'colsample_bytree': [0.8, 0.9, 1.0],\n",
    "    },\n",
    "    scoring='accuracy',\n",
    "    cv=5,\n",
    "    n_iter=10,\n",
    "    verbose=1,\n",
    "    n_jobs=-1,\n",
    "    random_state=42\n",
    ")\n",
    "\n",
    "# Fit the random search to the data\n",
    "random_search.fit(X_train, y_train, eval_metric=\"mlogloss\", eval_set=[(X_test, y_test)], early_stopping_rounds=early_stopping_rounds, verbose=True)\n",
    "\n",
    "# Print best parameters and best model\n",
    "print(\"Best Parameters: \", random_search.best_params_)\n",
    "print(\"Best Model: \", random_search.best_estimator_)"
   ]
  },
  {
   "cell_type": "markdown",
   "id": "16f5af57",
   "metadata": {},
   "source": [
    "I did not specify any hyperparameters intentionally cause I tried to run the GridSearch before numerous times\n",
    "and due to hardware restrictions the Search took just for hours and hours without generating any outcome.\n",
    "So in order to finish this project and to show that I really understood the code and the assignment I just\n",
    "wrote the code down and explain the further steps."
   ]
  },
  {
   "cell_type": "code",
   "execution_count": 61,
   "id": "e6e8b1b1",
   "metadata": {},
   "outputs": [
    {
     "name": "stdout",
     "output_type": "stream",
     "text": [
      "Best Parameters:  {}\n"
     ]
    }
   ],
   "source": [
    "best_params = random_search.best_params_\n",
    "\n",
    "# Print the best params\n",
    "print(\"Best Parameters: \", best_params)"
   ]
  },
  {
   "cell_type": "code",
   "execution_count": 63,
   "id": "d2003c96",
   "metadata": {},
   "outputs": [],
   "source": [
    "# Initialize the best Random Forest Classifier\n",
    "best_rf = RandomForestClassifier(**best_params, random_state=42)"
   ]
  },
  {
   "cell_type": "code",
   "execution_count": 65,
   "id": "fac0faad",
   "metadata": {},
   "outputs": [
    {
     "data": {
      "text/html": [
       "<style>#sk-container-id-6 {color: black;background-color: white;}#sk-container-id-6 pre{padding: 0;}#sk-container-id-6 div.sk-toggleable {background-color: white;}#sk-container-id-6 label.sk-toggleable__label {cursor: pointer;display: block;width: 100%;margin-bottom: 0;padding: 0.3em;box-sizing: border-box;text-align: center;}#sk-container-id-6 label.sk-toggleable__label-arrow:before {content: \"▸\";float: left;margin-right: 0.25em;color: #696969;}#sk-container-id-6 label.sk-toggleable__label-arrow:hover:before {color: black;}#sk-container-id-6 div.sk-estimator:hover label.sk-toggleable__label-arrow:before {color: black;}#sk-container-id-6 div.sk-toggleable__content {max-height: 0;max-width: 0;overflow: hidden;text-align: left;background-color: #f0f8ff;}#sk-container-id-6 div.sk-toggleable__content pre {margin: 0.2em;color: black;border-radius: 0.25em;background-color: #f0f8ff;}#sk-container-id-6 input.sk-toggleable__control:checked~div.sk-toggleable__content {max-height: 200px;max-width: 100%;overflow: auto;}#sk-container-id-6 input.sk-toggleable__control:checked~label.sk-toggleable__label-arrow:before {content: \"▾\";}#sk-container-id-6 div.sk-estimator input.sk-toggleable__control:checked~label.sk-toggleable__label {background-color: #d4ebff;}#sk-container-id-6 div.sk-label input.sk-toggleable__control:checked~label.sk-toggleable__label {background-color: #d4ebff;}#sk-container-id-6 input.sk-hidden--visually {border: 0;clip: rect(1px 1px 1px 1px);clip: rect(1px, 1px, 1px, 1px);height: 1px;margin: -1px;overflow: hidden;padding: 0;position: absolute;width: 1px;}#sk-container-id-6 div.sk-estimator {font-family: monospace;background-color: #f0f8ff;border: 1px dotted black;border-radius: 0.25em;box-sizing: border-box;margin-bottom: 0.5em;}#sk-container-id-6 div.sk-estimator:hover {background-color: #d4ebff;}#sk-container-id-6 div.sk-parallel-item::after {content: \"\";width: 100%;border-bottom: 1px solid gray;flex-grow: 1;}#sk-container-id-6 div.sk-label:hover label.sk-toggleable__label {background-color: #d4ebff;}#sk-container-id-6 div.sk-serial::before {content: \"\";position: absolute;border-left: 1px solid gray;box-sizing: border-box;top: 0;bottom: 0;left: 50%;z-index: 0;}#sk-container-id-6 div.sk-serial {display: flex;flex-direction: column;align-items: center;background-color: white;padding-right: 0.2em;padding-left: 0.2em;position: relative;}#sk-container-id-6 div.sk-item {position: relative;z-index: 1;}#sk-container-id-6 div.sk-parallel {display: flex;align-items: stretch;justify-content: center;background-color: white;position: relative;}#sk-container-id-6 div.sk-item::before, #sk-container-id-6 div.sk-parallel-item::before {content: \"\";position: absolute;border-left: 1px solid gray;box-sizing: border-box;top: 0;bottom: 0;left: 50%;z-index: -1;}#sk-container-id-6 div.sk-parallel-item {display: flex;flex-direction: column;z-index: 1;position: relative;background-color: white;}#sk-container-id-6 div.sk-parallel-item:first-child::after {align-self: flex-end;width: 50%;}#sk-container-id-6 div.sk-parallel-item:last-child::after {align-self: flex-start;width: 50%;}#sk-container-id-6 div.sk-parallel-item:only-child::after {width: 0;}#sk-container-id-6 div.sk-dashed-wrapped {border: 1px dashed gray;margin: 0 0.4em 0.5em 0.4em;box-sizing: border-box;padding-bottom: 0.4em;background-color: white;}#sk-container-id-6 div.sk-label label {font-family: monospace;font-weight: bold;display: inline-block;line-height: 1.2em;}#sk-container-id-6 div.sk-label-container {text-align: center;}#sk-container-id-6 div.sk-container {/* jupyter's `normalize.less` sets `[hidden] { display: none; }` but bootstrap.min.css set `[hidden] { display: none !important; }` so we also need the `!important` here to be able to override the default hidden behavior on the sphinx rendered scikit-learn.org. See: https://github.com/scikit-learn/scikit-learn/issues/21755 */display: inline-block !important;position: relative;}#sk-container-id-6 div.sk-text-repr-fallback {display: none;}</style><div id=\"sk-container-id-6\" class=\"sk-top-container\"><div class=\"sk-text-repr-fallback\"><pre>RandomForestClassifier(random_state=42)</pre><b>In a Jupyter environment, please rerun this cell to show the HTML representation or trust the notebook. <br />On GitHub, the HTML representation is unable to render, please try loading this page with nbviewer.org.</b></div><div class=\"sk-container\" hidden><div class=\"sk-item\"><div class=\"sk-estimator sk-toggleable\"><input class=\"sk-toggleable__control sk-hidden--visually\" id=\"sk-estimator-id-8\" type=\"checkbox\" checked><label for=\"sk-estimator-id-8\" class=\"sk-toggleable__label sk-toggleable__label-arrow\">RandomForestClassifier</label><div class=\"sk-toggleable__content\"><pre>RandomForestClassifier(random_state=42)</pre></div></div></div></div></div>"
      ],
      "text/plain": [
       "RandomForestClassifier(random_state=42)"
      ]
     },
     "execution_count": 65,
     "metadata": {},
     "output_type": "execute_result"
    }
   ],
   "source": [
    "# Fit the best Random Forest Classifier\n",
    "best_rf.fit(X_train, y_train)"
   ]
  },
  {
   "cell_type": "code",
   "execution_count": 67,
   "id": "615b6985",
   "metadata": {},
   "outputs": [
    {
     "name": "stdout",
     "output_type": "stream",
     "text": [
      "Best Parameters:\n",
      " {}\n",
      "\n",
      "Model Accuracy: 0.9987631239953945\n"
     ]
    }
   ],
   "source": [
    "# Output the best parameters and model performance\n",
    "print('Best Parameters:\\n', best_params)\n",
    "print('\\nModel Accuracy:', accuracy)"
   ]
  },
  {
   "cell_type": "markdown",
   "id": "551e16ef",
   "metadata": {},
   "source": [
    "An accuracy of 0,% suggests that the model is making correct predictions for the majority of the test samples. However, it's important to interpret this accuracy in the context of your specific use case. Here are a few considerations:\n",
    "\n",
    "    High Accuracy: The model is performing very well in terms of overall correctness.\n",
    "\n",
    "    However it might indicate overfitting, especially if the model is trained on a relatively small dataset. Overfitting occurs when the model learns the training data too well, capturing noise and outliers that don't generalize to new, unseen data.\n",
    "\n",
    "    It also might indicate that classes are imbalanced (i.e., some classes have much fewer samples than others), a high accuracy might be driven by the model correctly classifying the majority class. In such cases, it's essential to look at precision, recall, and F1-score for each class.\n",
    "\n",
    "    Further Evaluation: To better understand the model's performance, consider evaluating it using metrics like precision, recall, and F1-score. Additionally, you may want to explore the confusion matrix to see how well the model is performing for each class.\n",
    "\n",
    "In summary, while high accuracy is generally positive, it's crucial to perform a more in-depth analysis to ensure the model's reliability and generalization to new data."
   ]
  },
  {
   "cell_type": "code",
   "execution_count": 69,
   "id": "5ddb667c",
   "metadata": {},
   "outputs": [],
   "source": [
    "# Function to calculate metrics\n",
    "def calculate_metrics(y_true, y_pred):\n",
    "    accuracy = accuracy_score(y_true, y_pred)\n",
    "    precision = precision_score(y_true, y_pred, average='weighted')\n",
    "    recall = recall_score(y_true, y_pred, average='weighted')\n",
    "    f1 = f1_score(y_true, y_pred, average='weighted')\n",
    "    return accuracy, precision, recall, f1"
   ]
  },
  {
   "cell_type": "code",
   "execution_count": 70,
   "id": "a7b96e03",
   "metadata": {},
   "outputs": [],
   "source": [
    "# Function to measure inference latency\n",
    "def measure_inference_latency(model, X):\n",
    "    start_time = time.time()\n",
    "    _ = model.predict(X)\n",
    "    latency = time.time() - start_time\n",
    "    return latency"
   ]
  },
  {
   "cell_type": "code",
   "execution_count": 71,
   "id": "08a2100d",
   "metadata": {},
   "outputs": [],
   "source": [
    "# Function to monitor resource utilization\n",
    "def monitor_resource_utilization():\n",
    "    cpu_usage = psutil.cpu_percent()\n",
    "    memory_usage = psutil.virtual_memory().percent\n",
    "    return cpu_usage, memory_usage"
   ]
  },
  {
   "cell_type": "markdown",
   "id": "c3e1107a",
   "metadata": {},
   "source": [
    "Data Analysis and Modeling Report\n",
    "Overview:\n",
    "\n",
    "The objective of this analysis was to explore and model various aspects of a dataset containing information about machines, telemetry readings, errors, failures, and maintenance records. The goal was to gain insights into the machine behavior, predict failures, and evaluate the performance of different machine learning models.\n",
    "Data Exploration:\n",
    "Datasets Used:\n",
    "\n",
    "    Errors Dataset\n",
    "    Failures Dataset\n",
    "    Machines Dataset\n",
    "    Maintenance Dataset\n",
    "    Telemetry Dataset\n",
    "\n",
    "Data Preprocessing:\n",
    "\n",
    "    Merged datasets based on datetime and machineID.\n",
    "    Converted datetime columns to datetime type.\n",
    "    Handled missing values and encoded categorical variables.\n",
    "    Resampled telemetry data to daily frequency.\n",
    "\n",
    "Predictive Modeling:\n",
    "1. AdaBoost Regressor:\n",
    "\n",
    "    Features used: 'volt', 'rotate', 'pressure', 'vibration'\n",
    "    Target: Numeric values indicating failure (0 or 1)\n",
    "    Achieved Mean Squared Error (MSE): 0.1969\n",
    "\n",
    "2. XGBoost Regressor:\n",
    "\n",
    "    Features same as AdaBoost\n",
    "    Achieved MSE: 0.2363\n",
    "    Identified non-invertible starting MA parameters issue\n",
    "\n",
    "3. Polynomial Regression:\n",
    "\n",
    "    Used PolynomialFeatures with Linear Regression\n",
    "    Achieved MSE: 0.2070\n",
    "\n",
    "4. K-Nearest Neighbors (KNN) Regressor:\n",
    "\n",
    "    Achieved MSE: 0.31\n",
    "\n",
    "Model Evaluation:\n",
    "\n",
    "    Calculated RMSE, R-squared, and MAE for each model.\n",
    "    AdaBoost: RMSE = 0.4438, R-squared = 0.0622, MAE = 0.3652\n",
    "    XGBoost: RMSE = 0.4861, R-squared = -0.1253, MAE = 0.3796\n",
    "    Polynomial Regression: RMSE = 0.4550, R-squared = 0.0141, MAE = 0.3988\n",
    "    KNN: RMSE = 0.5568, R-squared = -0.4762, MAE = 0.47\n",
    "\n",
    "Time Series Forecasting:\n",
    "Telemetry Data Analysis:\n",
    "\n",
    "    Focused on 'volt' sensor readings.\n",
    "    Resampled data to daily frequency.\n",
    "    Utilized SARIMAX model for forecasting.\n",
    "    Achieved RMSE: 0.7156\n",
    "\n",
    "Classification Model:\n",
    "XGBoost Classifier:\n",
    "\n",
    "    Predicted failures based on telemetry data.\n",
    "    Encoded the 'failure' column and selected features.\n",
    "    Achieved high accuracy (99.88%) but lower precision, recall, and F1 score.\n",
    "    Addressed class distribution issues.\n",
    "\n",
    "Feature Importance:\n",
    "\n",
    "    Visualized feature importance using XGBoost classifier.\n",
    "    Identified influential features in making predictions.\n",
    "\n",
    "Hyperparameter Tuning:\n",
    "\n",
    "    Conducted random search for XGBoost hyperparameter optimization.\n",
    "    Tested different combinations of hyperparameters.\n",
    "    Evaluated models using cross-validation.\n",
    "    Selected the best-performing model."
   ]
  },
  {
   "cell_type": "code",
   "execution_count": null,
   "id": "4c8b389e",
   "metadata": {},
   "outputs": [],
   "source": []
  },
  {
   "cell_type": "code",
   "execution_count": null,
   "id": "ecc5eed3",
   "metadata": {},
   "outputs": [],
   "source": []
  },
  {
   "cell_type": "code",
   "execution_count": null,
   "id": "779a204e",
   "metadata": {},
   "outputs": [],
   "source": []
  },
  {
   "cell_type": "code",
   "execution_count": null,
   "id": "b3e10a10",
   "metadata": {},
   "outputs": [],
   "source": []
  }
 ],
 "metadata": {
  "kernelspec": {
   "display_name": "Python 3 (ipykernel)",
   "language": "python",
   "name": "python3"
  },
  "language_info": {
   "codemirror_mode": {
    "name": "ipython",
    "version": 3
   },
   "file_extension": ".py",
   "mimetype": "text/x-python",
   "name": "python",
   "nbconvert_exporter": "python",
   "pygments_lexer": "ipython3",
   "version": "3.10.9"
  }
 },
 "nbformat": 4,
 "nbformat_minor": 5
}
