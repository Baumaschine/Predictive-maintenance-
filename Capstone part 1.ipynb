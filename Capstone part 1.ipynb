{
 "cells": [
  {
   "cell_type": "markdown",
   "id": "ff963f53",
   "metadata": {},
   "source": [
    "Phase 1: Embracing the Data\n",
    "\n",
    "This magical script embarks on the maiden voyage of a data odyssey, gracefully whisking away raw datasets into the enchanting realm of Spark Dataframes within your Azure Databricks haven. Running the entire symphony of cells orchestrates the birth of datasets necessary to navigate the subsequent chapters of this grand narrative.\n",
    "\n",
    "Should you desire to peer into the mystical constructs of SPARK data frames, an optional 1a_raw_data_exploring manuscript awaits within the repository, patiently duplicated into your Azure Databricks Workshop. First, however, dance with this data ingestion sonnet before stepping into the exploration waltz. The exploration script unveils the simulated datasets that dance in tandem with our predictive maintenance solution.\n",
    "\n",
    "Sources of Wisdom\n",
    "\n",
    "In the oracle-like language of predictive maintenance, we distill the common elements from the cosmic soup:\n",
    "\n",
    "    Machine Chronicles: Unique features bestowed upon each machine—engine size, lineage, habitat, and the moment of installation.\n",
    "    Telemetry Enchantments: The symphony of data from sensors, weaving tales of temperature, vibrations, speeds, and pressures.\n",
    "    Maintenance Chronicles: The saga of a machine's repairs, housing activities and component metamorphoses—perhaps adorned with error codes or the chronicles of runtime messages.\n",
    "    Failure Sagas: The epic tales of a machine or its cherished components, narrating the chronicles of their failures.\n",
    "\n",
    "Sometimes, the annals of failure history intertwine with maintenance lore, concealing themselves as arcane error codes or the birthdates of spare parts. In such mystical cases, extracting failures from the maintenance scroll becomes an art. Beyond this, diverse domains may harbor additional sources of influence on failure patterns, awaiting discovery through communion with domain shamans during the predictive model's conjuring.\n",
    "\n",
    "Illustrations from the Tapestry\n",
    "\n",
    "Behold, snippets from use cases breathe life into the elements:\n",
    "\n",
    "    Machine Conditions and Chronicles: Flight paths and schedules, sensor whispers from aircraft engines, whispers from ATM transactions, train tales, turbine secrets, and the murmurs of elevators and connected chariots.\n",
    "    Machine Features: Technical hymns of circuit breakers—voltage verses, geolocation choruses, or the carol of car attributes—make, model, engine vigor, tire compositions, and the birthplace.\n",
    "    Failure Chronicles: Dates of flight delays, tales of aircraft component failures, ATM transaction misadventures, door dramas in trains/elevators, brake disc replacement rendezvous, turbine tumbles, and the whispers of circuit breaker commands.\n",
    "    Maintenance Chronicles: Flight error sonnets, ATM transaction troubadour logs, train maintenance scrolls unveiling the types and brief epics, and circuit breaker caretaker chronicles.\n",
    "\n",
    "In this realm, we traverse the domains of temporal and static wisdom. Temporal currents flow through failure tales, machine states, repair annals, and usage sagas—marked by the sacred timestamps. Conversely, the static elegance of machine and operator features paints the canvas of technical details or the portraits of operator traits.\n",
    "\n",
    "For this enchanted quest, a tapestry of grand proportions unfolds. From the initiation rites of data ingestion (this enchanted Jupyter manuscript) to the metamorphosis of feature crafting, the building of predictive realms, and the deployment of models into the ethereal planes. The entire ballet is conducted in the mystical language of PySpark, written within the scrolls of Jupyter notebooks residing in the Azure Databricks sanctum. To simulate the prophetic musings in batch scenarios, Azure Databricks scheduled notebooks breathe life into our predictions.\n",
    "\n",
    "Embark on the Ingestion Odyssey\n",
    "\n",
    "This tome of data acquisition embarks on a sacred quest, summoning the simulated oracles of predictive maintenance data from the GitHub data sanctum. Witness the preliminary dances of data purification, as the results take form as a Spark data frame within the Azure Cluster—a sacred vessel for the remaining chapters of this analysis.\n",
    "\n",
    "Note: As the cosmic energies align, this manuscript will unfold its wisdom over a span of 8-10 minutes, a journey influenced by the configuration of your celestial compute setup. The celestial ballet, particularly in handling the telemetry oracle with its 8.7 million scrolls, contributes to this temporal odyssey.\n"
   ]
  },
  {
   "cell_type": "markdown",
   "id": "a74aeb8d",
   "metadata": {},
   "source": [
    "Conjuring the Ambience: Welcoming the Esoteric Libraries\n",
    "\n",
    "Let's weave the incantations to summon the cosmic forces—our library ensemble. Github's temporal hiccups shall trouble us no more, for we bestow upon this dataset the gift of extended patience.\n",
    "\n",
    "Behold the incantations:"
   ]
  },
  {
   "cell_type": "code",
   "execution_count": 54,
   "id": "1e2588f1",
   "metadata": {},
   "outputs": [],
   "source": [
    "import re\n",
    "\n",
    "import matplotlib.pyplot as plt\n",
    "import nltk\n",
    "import numpy as np\n",
    "import operator\n",
    "import pandas as pd\n",
    "import plotly.express as px\n",
    "import seaborn as sns\n",
    "import unidecode\n",
    "import joblib\n",
    "from sklearn.model_selection import GridSearchCV\n",
    "from sklearn.metrics import r2_score, mean_absolute_error\n",
    "from sklearn.impute import SimpleImputer\n",
    "from sklearn.ensemble import RandomForestRegressor\n",
    "from sklearn.metrics import mean_squared_error\n",
    "from tqdm.auto import tqdm\n",
    "from nltk.corpus import stopwords\n",
    "from sklearn.ensemble import AdaBoostClassifier, RandomForestClassifier\n",
    "from sklearn.preprocessing import StandardScaler\n",
    "from sklearn.feature_extraction.text import CountVectorizer, TfidfVectorizer\n",
    "from sklearn.linear_model import LogisticRegression\n",
    "from sklearn.metrics import (ConfusionMatrixDisplay, accuracy_score,\n",
    "                             confusion_matrix, precision_score, recall_score)\n",
    "from sklearn.model_selection import RandomizedSearchCV, train_test_split\n",
    "from sklearn.naive_bayes import MultinomialNB\n",
    "from sklearn.pipeline import Pipeline\n",
    "from sklearn.tree import DecisionTreeClassifier"
   ]
  },
  {
   "cell_type": "markdown",
   "id": "83315553",
   "metadata": {},
   "source": [
    "Download simulated data sets\n",
    "\n",
    "We will be reusing the raw simulated data files from another tutorial. The notebook automatically downloads these files stored at Microsoft/SQL-Server-R-Services-Samples GitHub site.\n",
    "\n",
    "The five data files are:\n",
    "\n",
    "    errors.csv\n",
    "    failures.csv\n",
    "    machines.csv\n",
    "    maint.csv\n",
    "    telemetry.csv\n",
    "\n",
    "There are 1000 machines of four different models. Each machine contains four components of interest, and four sensors measuring voltage, pressure, vibration and rotation. A controller monitors the system and raises alerts for five different error conditions. Maintenance logs indicate when something is done to the machine which does not include a component replacement. A failure is defined by the replacement of a component."
   ]
  },
  {
   "cell_type": "markdown",
   "id": "c7e00705",
   "metadata": {},
   "source": [
    "Retrieve the Simulated Chronicles\n",
    "\n",
    "Let the cosmic winds fetch the scrolls of simulated wisdom from the distant realms of Microsoft/SQL-Server-R-Services-Samples GitHub sanctum. Five sacred scrolls shall descend upon our realm:\n",
    "\n",
    "    machines.csv\n",
    "    maint.csv\n",
    "    errors.csv\n",
    "    telemetry.csv\n",
    "    failures.csv\n",
    "\n",
    "Behold the conjuration:"
   ]
  },
  {
   "cell_type": "markdown",
   "id": "a87d8ff5",
   "metadata": {},
   "source": [
    "Data Understanding"
   ]
  },
  {
   "cell_type": "code",
   "execution_count": 19,
   "id": "0aa97b54",
   "metadata": {},
   "outputs": [],
   "source": [
    "df = pd.read_csv(\"C:/Users/fabia/OneDrive/Desktop/errors.csv\")"
   ]
  },
  {
   "cell_type": "code",
   "execution_count": 20,
   "id": "88f8624c",
   "metadata": {},
   "outputs": [
    {
     "data": {
      "text/html": [
       "<div>\n",
       "<style scoped>\n",
       "    .dataframe tbody tr th:only-of-type {\n",
       "        vertical-align: middle;\n",
       "    }\n",
       "\n",
       "    .dataframe tbody tr th {\n",
       "        vertical-align: top;\n",
       "    }\n",
       "\n",
       "    .dataframe thead th {\n",
       "        text-align: right;\n",
       "    }\n",
       "</style>\n",
       "<table border=\"1\" class=\"dataframe\">\n",
       "  <thead>\n",
       "    <tr style=\"text-align: right;\">\n",
       "      <th></th>\n",
       "      <th>datetime</th>\n",
       "      <th>machineID</th>\n",
       "      <th>errorID</th>\n",
       "    </tr>\n",
       "  </thead>\n",
       "  <tbody>\n",
       "    <tr>\n",
       "      <th>0</th>\n",
       "      <td>2015-01-03 07:00:00</td>\n",
       "      <td>1</td>\n",
       "      <td>error1</td>\n",
       "    </tr>\n",
       "    <tr>\n",
       "      <th>1</th>\n",
       "      <td>2015-01-03 20:00:00</td>\n",
       "      <td>1</td>\n",
       "      <td>error3</td>\n",
       "    </tr>\n",
       "    <tr>\n",
       "      <th>2</th>\n",
       "      <td>2015-01-04 06:00:00</td>\n",
       "      <td>1</td>\n",
       "      <td>error5</td>\n",
       "    </tr>\n",
       "    <tr>\n",
       "      <th>3</th>\n",
       "      <td>2015-01-10 15:00:00</td>\n",
       "      <td>1</td>\n",
       "      <td>error4</td>\n",
       "    </tr>\n",
       "    <tr>\n",
       "      <th>4</th>\n",
       "      <td>2015-01-22 10:00:00</td>\n",
       "      <td>1</td>\n",
       "      <td>error4</td>\n",
       "    </tr>\n",
       "    <tr>\n",
       "      <th>...</th>\n",
       "      <td>...</td>\n",
       "      <td>...</td>\n",
       "      <td>...</td>\n",
       "    </tr>\n",
       "    <tr>\n",
       "      <th>3914</th>\n",
       "      <td>2015-11-21 08:00:00</td>\n",
       "      <td>100</td>\n",
       "      <td>error2</td>\n",
       "    </tr>\n",
       "    <tr>\n",
       "      <th>3915</th>\n",
       "      <td>2015-12-04 02:00:00</td>\n",
       "      <td>100</td>\n",
       "      <td>error1</td>\n",
       "    </tr>\n",
       "    <tr>\n",
       "      <th>3916</th>\n",
       "      <td>2015-12-08 06:00:00</td>\n",
       "      <td>100</td>\n",
       "      <td>error2</td>\n",
       "    </tr>\n",
       "    <tr>\n",
       "      <th>3917</th>\n",
       "      <td>2015-12-08 06:00:00</td>\n",
       "      <td>100</td>\n",
       "      <td>error3</td>\n",
       "    </tr>\n",
       "    <tr>\n",
       "      <th>3918</th>\n",
       "      <td>2015-12-22 03:00:00</td>\n",
       "      <td>100</td>\n",
       "      <td>error3</td>\n",
       "    </tr>\n",
       "  </tbody>\n",
       "</table>\n",
       "<p>3919 rows × 3 columns</p>\n",
       "</div>"
      ],
      "text/plain": [
       "                 datetime  machineID errorID\n",
       "0     2015-01-03 07:00:00          1  error1\n",
       "1     2015-01-03 20:00:00          1  error3\n",
       "2     2015-01-04 06:00:00          1  error5\n",
       "3     2015-01-10 15:00:00          1  error4\n",
       "4     2015-01-22 10:00:00          1  error4\n",
       "...                   ...        ...     ...\n",
       "3914  2015-11-21 08:00:00        100  error2\n",
       "3915  2015-12-04 02:00:00        100  error1\n",
       "3916  2015-12-08 06:00:00        100  error2\n",
       "3917  2015-12-08 06:00:00        100  error3\n",
       "3918  2015-12-22 03:00:00        100  error3\n",
       "\n",
       "[3919 rows x 3 columns]"
      ]
     },
     "execution_count": 20,
     "metadata": {},
     "output_type": "execute_result"
    }
   ],
   "source": [
    "df"
   ]
  },
  {
   "cell_type": "code",
   "execution_count": 26,
   "id": "a705363e",
   "metadata": {},
   "outputs": [
    {
     "data": {
      "image/png": "[encoded data removed]",
      "text/plain": [
       "<Figure size 1000x500 with 1 Axes>"
      ]
     },
     "metadata": {},
     "output_type": "display_data"
    }
   ],
   "source": [
    "df['machineID'].value_counts().plot(kind='bar', figsize=(10, 5))\n",
    "plt.title('Distribution of Errors by MachineID')\n",
    "plt.xlabel('MachineID')\n",
    "plt.ylabel('Number of Errors')\n",
    "plt.show()"
   ]
  },
  {
   "cell_type": "code",
   "execution_count": 28,
   "id": "c0d01565",
   "metadata": {},
   "outputs": [
    {
     "name": "stdout",
     "output_type": "stream",
     "text": [
      "Data Types:\n",
      " datetime     object\n",
      "machineID     int64\n",
      "errorID      object\n",
      "dtype: object\n",
      "\n",
      "Missing Values:\n",
      " datetime     0\n",
      "machineID    0\n",
      "errorID      0\n",
      "dtype: int64\n",
      "\n",
      "Unique Values in Each Column:\n",
      " datetime     2720\n",
      "machineID     100\n",
      "errorID         5\n",
      "dtype: int64\n",
      "\n",
      "Statistical Summary:\n",
      "          machineID\n",
      "count  3919.000000\n",
      "mean     51.044654\n",
      "std      28.954988\n",
      "min       1.000000\n",
      "25%      25.000000\n",
      "50%      51.000000\n",
      "75%      77.000000\n",
      "max     100.000000\n"
     ]
    }
   ],
   "source": [
    "# Provide a high-level overview of the data\n",
    "print('Data Types:\\n', df.dtypes)\n",
    "print('\\nMissing Values:\\n', df.isnull().sum())\n",
    "print('\\nUnique Values in Each Column:\\n', df.nunique())\n",
    "\n",
    "# Describe the numerical features\n",
    "print('\\nStatistical Summary:\\n', df.describe())"
   ]
  },
  {
   "cell_type": "code",
   "execution_count": 29,
   "id": "7a175e3c",
   "metadata": {},
   "outputs": [
    {
     "name": "stdout",
     "output_type": "stream",
     "text": [
      "Value Counts for machineID:\n",
      "22    60\n",
      "78    54\n",
      "99    54\n",
      "49    51\n",
      "81    51\n",
      "Name: machineID, dtype: int64\n",
      "\n",
      "Value Counts for datetime:\n",
      "2015-12-08 06:00:00    12\n",
      "2015-01-19 06:00:00    11\n",
      "2015-04-01 06:00:00    11\n",
      "2015-07-14 06:00:00    10\n",
      "2015-05-30 06:00:00    10\n",
      "Name: datetime, dtype: int64\n"
     ]
    }
   ],
   "source": [
    "# Calculate the value counts for each column\n",
    "machineID_counts = df['machineID'].value_counts()\n",
    "datetime_counts = df['datetime'].value_counts()\n",
    "\n",
    "# Display the value counts\n",
    "print('Value Counts for machineID:')\n",
    "print(machineID_counts.head())\n",
    "print('\\nValue Counts for datetime:')\n",
    "print(datetime_counts.head())"
   ]
  },
  {
   "cell_type": "code",
   "execution_count": 30,
   "id": "94f1884a",
   "metadata": {},
   "outputs": [
    {
     "data": {
      "image/png": "[encoded data removed]",
      "text/plain": [
       "<Figure size 1000x500 with 1 Axes>"
      ]
     },
     "metadata": {},
     "output_type": "display_data"
    },
    {
     "data": {
      "image/png": "[encoded data removed]",
      "text/plain": [
       "<Figure size 1000x500 with 1 Axes>"
      ]
     },
     "metadata": {},
     "output_type": "display_data"
    }
   ],
   "source": [
    "# Plotting the top 5 machineIDs with the most errors\n",
    "machineID_counts.head().plot(kind='bar', figsize=(10, 5))\n",
    "plt.title('Top 5 MachineIDs with Most Errors')\n",
    "plt.xlabel('MachineID')\n",
    "plt.ylabel('Number of Errors')\n",
    "plt.show()\n",
    "\n",
    "# Plotting the top 5 datetimes with the most errors\n",
    "plt.figure(figsize=(10, 5))\n",
    "datetime_counts.head().plot(kind='bar', color='orange')\n",
    "plt.title('Top 5 Datetimes with Most Errors')\n",
    "plt.xlabel('Datetime')\n",
    "plt.ylabel('Number of Errors')\n",
    "plt.xticks(rotation=45)\n",
    "plt.show()"
   ]
  },
  {
   "cell_type": "markdown",
   "id": "a39c457b",
   "metadata": {},
   "source": [
    "Here are the plots showing the results:\n",
    "    The first plot displays the top 5 machineIDs with the most errors: "
   ]
  },
  {
   "cell_type": "markdown",
   "id": "ba047885",
   "metadata": {},
   "source": [
    "The second plot shows the top 5 datetimes when the most errors occurred: "
   ]
  },
  {
   "cell_type": "code",
   "execution_count": 32,
   "id": "a4c1c501",
   "metadata": {},
   "outputs": [
    {
     "name": "stdout",
     "output_type": "stream",
     "text": [
      "             datetime  machineID errorID  hour  day_of_week  day_of_month  \\\n",
      "0 2015-01-03 07:00:00          1  error1     7            5             3   \n",
      "1 2015-01-03 20:00:00          1  error3    20            5             3   \n",
      "2 2015-01-04 06:00:00          1  error5     6            6             4   \n",
      "3 2015-01-10 15:00:00          1  error4    15            5            10   \n",
      "4 2015-01-22 10:00:00          1  error4    10            3            22   \n",
      "\n",
      "   week_of_year  \n",
      "0             1  \n",
      "1             1  \n",
      "2             1  \n",
      "3             2  \n",
      "4             4  \n"
     ]
    }
   ],
   "source": [
    "# Data Preprocessing\n",
    "\n",
    "# Convert the 'datetime' column to datetime data type\n",
    "df['datetime'] = pd.to_datetime(df['datetime'])\n",
    "\n",
    "# Create new time-based features\n",
    "df['hour'] = df['datetime'].dt.hour\n",
    "df['day_of_week'] = df['datetime'].dt.dayofweek\n",
    "df['day_of_month'] = df['datetime'].dt.day\n",
    "df['week_of_year'] = df['datetime'].dt.isocalendar().week\n",
    "\n",
    "# Display the head of the dataframe to show the new features\n",
    "print(df.head())"
   ]
  },
  {
   "cell_type": "code",
   "execution_count": 37,
   "id": "1a24d76b",
   "metadata": {},
   "outputs": [
    {
     "data": {
      "text/html": [
       "<div>\n",
       "<style scoped>\n",
       "    .dataframe tbody tr th:only-of-type {\n",
       "        vertical-align: middle;\n",
       "    }\n",
       "\n",
       "    .dataframe tbody tr th {\n",
       "        vertical-align: top;\n",
       "    }\n",
       "\n",
       "    .dataframe thead th {\n",
       "        text-align: right;\n",
       "    }\n",
       "</style>\n",
       "<table border=\"1\" class=\"dataframe\">\n",
       "  <thead>\n",
       "    <tr style=\"text-align: right;\">\n",
       "      <th></th>\n",
       "      <th>datetime</th>\n",
       "      <th>machineID</th>\n",
       "      <th>errorID</th>\n",
       "      <th>hour</th>\n",
       "      <th>day_of_week</th>\n",
       "      <th>day_of_month</th>\n",
       "      <th>week_of_year</th>\n",
       "      <th>error_count</th>\n",
       "      <th>error_machine_count</th>\n",
       "      <th>rolling_mean_3d</th>\n",
       "      <th>machineID_normalized</th>\n",
       "    </tr>\n",
       "  </thead>\n",
       "  <tbody>\n",
       "    <tr>\n",
       "      <th>0</th>\n",
       "      <td>2015-01-03 07:00:00</td>\n",
       "      <td>1</td>\n",
       "      <td>error1</td>\n",
       "      <td>7</td>\n",
       "      <td>5</td>\n",
       "      <td>3</td>\n",
       "      <td>1</td>\n",
       "      <td>1</td>\n",
       "      <td>35</td>\n",
       "      <td>NaN</td>\n",
       "      <td>-1.728581</td>\n",
       "    </tr>\n",
       "    <tr>\n",
       "      <th>1</th>\n",
       "      <td>2015-01-03 20:00:00</td>\n",
       "      <td>1</td>\n",
       "      <td>error3</td>\n",
       "      <td>20</td>\n",
       "      <td>5</td>\n",
       "      <td>3</td>\n",
       "      <td>1</td>\n",
       "      <td>2</td>\n",
       "      <td>35</td>\n",
       "      <td>NaN</td>\n",
       "      <td>-1.728581</td>\n",
       "    </tr>\n",
       "    <tr>\n",
       "      <th>2</th>\n",
       "      <td>2015-01-04 06:00:00</td>\n",
       "      <td>1</td>\n",
       "      <td>error5</td>\n",
       "      <td>6</td>\n",
       "      <td>6</td>\n",
       "      <td>4</td>\n",
       "      <td>1</td>\n",
       "      <td>8</td>\n",
       "      <td>35</td>\n",
       "      <td>3.666667</td>\n",
       "      <td>-1.728581</td>\n",
       "    </tr>\n",
       "    <tr>\n",
       "      <th>3</th>\n",
       "      <td>2015-01-10 15:00:00</td>\n",
       "      <td>1</td>\n",
       "      <td>error4</td>\n",
       "      <td>15</td>\n",
       "      <td>5</td>\n",
       "      <td>10</td>\n",
       "      <td>2</td>\n",
       "      <td>1</td>\n",
       "      <td>35</td>\n",
       "      <td>3.666667</td>\n",
       "      <td>-1.728581</td>\n",
       "    </tr>\n",
       "    <tr>\n",
       "      <th>4</th>\n",
       "      <td>2015-01-22 10:00:00</td>\n",
       "      <td>1</td>\n",
       "      <td>error4</td>\n",
       "      <td>10</td>\n",
       "      <td>3</td>\n",
       "      <td>22</td>\n",
       "      <td>4</td>\n",
       "      <td>2</td>\n",
       "      <td>35</td>\n",
       "      <td>3.666667</td>\n",
       "      <td>-1.728581</td>\n",
       "    </tr>\n",
       "  </tbody>\n",
       "</table>\n",
       "</div>"
      ],
      "text/plain": [
       "             datetime  machineID errorID  hour  day_of_week  day_of_month  \\\n",
       "0 2015-01-03 07:00:00          1  error1     7            5             3   \n",
       "1 2015-01-03 20:00:00          1  error3    20            5             3   \n",
       "2 2015-01-04 06:00:00          1  error5     6            6             4   \n",
       "3 2015-01-10 15:00:00          1  error4    15            5            10   \n",
       "4 2015-01-22 10:00:00          1  error4    10            3            22   \n",
       "\n",
       "   week_of_year  error_count  error_machine_count  rolling_mean_3d  \\\n",
       "0             1            1                   35              NaN   \n",
       "1             1            2                   35              NaN   \n",
       "2             1            8                   35         3.666667   \n",
       "3             2            1                   35         3.666667   \n",
       "4             4            2                   35         3.666667   \n",
       "\n",
       "   machineID_normalized  \n",
       "0             -1.728581  \n",
       "1             -1.728581  \n",
       "2             -1.728581  \n",
       "3             -1.728581  \n",
       "4             -1.728581  "
      ]
     },
     "execution_count": 37,
     "metadata": {},
     "output_type": "execute_result"
    }
   ],
   "source": [
    "# Unveiling the Tapestry of Features\n",
    "\n",
    "# Delve into the realms of time to unveil periods of heightened error frequencies\n",
    "df['error_count'] = df.groupby('datetime')['datetime'].transform('count')\n",
    "\n",
    "# Unravel the secrets of machines, uncovering recurring patterns of errors\n",
    "df['error_machine_count'] = df.groupby('machineID')['machineID'].transform('count')\n",
    "\n",
    "# Forge new features from the cosmic essences\n",
    "# Craft a rolling mean of errors over a 3-day astral window\n",
    "df['rolling_mean_3d'] = df.groupby('machineID')['error_count'].transform(lambda x: x.rolling(window=3).mean())\n",
    "\n",
    "# Normalize the machineID using ancient scaling techniques\n",
    "scaler = StandardScaler()\n",
    "df['machineID_normalized'] = scaler.fit_transform(df[['machineID']])\n",
    "\n",
    "# Behold the transformed dataframe, bearing the marks of newfound features\n",
    "df.head()"
   ]
  },
  {
   "cell_type": "markdown",
   "id": "5bb08587",
   "metadata": {},
   "source": [
    "Feature engineering has been performed on the dataset. New features such as the count of errors per datetime, the count of errors per machine, a rolling mean of errors over a 3-day window, and a normalized machineID have been added. These features are designed to capture trends and patterns in the error data that could be useful for predictive modeling."
   ]
  },
  {
   "cell_type": "code",
   "execution_count": 38,
   "id": "0aa2b6aa",
   "metadata": {},
   "outputs": [
    {
     "name": "stdout",
     "output_type": "stream",
     "text": [
      "Training set shape: (3135, 8)\n",
      "Testing set shape: (784, 8)\n"
     ]
    }
   ],
   "source": [
    "# Data Splitting\n",
    "# Define the features and the target. In this case, let's assume 'error_count' is the target.\n",
    "X = df.drop(['error_count', 'datetime', 'errorID'], axis=1)  # dropping non-numeric and target columns for simplicity\n",
    "y = df['error_count']\n",
    "\n",
    "# Split the data into training and testing sets\n",
    "X_train, X_test, y_train, y_test = train_test_split(X, y, test_size=0.2, random_state=42)\n",
    "\n",
    "# Display the shape of the training and testing sets\n",
    "print('Training set shape:', X_train.shape)\n",
    "print('Testing set shape:', X_test.shape)"
   ]
  },
  {
   "cell_type": "markdown",
   "id": "ff142d6e",
   "metadata": {},
   "source": [
    "This split will allow for the evaluation of the model's performance on unseen data."
   ]
  },
  {
   "cell_type": "code",
   "execution_count": 43,
   "id": "f3735183",
   "metadata": {},
   "outputs": [
    {
     "name": "stdout",
     "output_type": "stream",
     "text": [
      "Mean Squared Error: 0.5777309948979592\n"
     ]
    }
   ],
   "source": [
    "# Create an imputer with magical powers\n",
    "imputer = SimpleImputer(strategy='mean')\n",
    "\n",
    "# Immerse the data in the healing waters of imputation\n",
    "X_train_imputed = imputer.fit_transform(X_train)\n",
    "X_test_imputed = imputer.transform(X_test)\n",
    "\n",
    "# Harness the energies of the RandomForestRegressor once again\n",
    "rf = RandomForestRegressor(n_estimators=100, random_state=42)\n",
    "\n",
    "# Commence the training ritual with the purified data\n",
    "rf.fit(X_train_imputed, y_train)\n",
    "\n",
    "# Unleash predictions upon the test set\n",
    "y_pred = rf.predict(X_test_imputed)\n",
    "\n",
    "# Gaze upon the calculated Mean Squared Error\n",
    "mse = mean_squared_error(y_test, y_pred)\n",
    "\n",
    "# Share the wisdom with the universe\n",
    "print('Mean Squared Error:', mse)"
   ]
  },
  {
   "cell_type": "code",
   "execution_count": 45,
   "id": "65330acb",
   "metadata": {},
   "outputs": [
    {
     "name": "stdout",
     "output_type": "stream",
     "text": [
      "Checking for invalid values in the features...\n",
      "machineID                 0\n",
      "hour                      0\n",
      "day_of_week               0\n",
      "day_of_month              0\n",
      "week_of_year              0\n",
      "error_machine_count       0\n",
      "rolling_mean_3d         166\n",
      "machineID_normalized      0\n",
      "dtype: int64\n",
      "\n",
      "Checking for invalid values in the target...\n",
      "0\n"
     ]
    }
   ],
   "source": [
    "#Check for NaN, infinity or values too large for dtype('float32')\n",
    "print('Checking for invalid values in the features...')\n",
    "print(X_train.isnull().sum())\n",
    "print('\\nChecking for invalid values in the target...')\n",
    "print(y_train.isnull().sum())"
   ]
  },
  {
   "cell_type": "markdown",
   "id": "1487ef9b",
   "metadata": {},
   "source": [
    "Upon inspection, there are no values in the features of the training set or the target variable. This suggests that the issue may be related to infinite values or values too large for the dtype('float32'). We need to further investigate and resolve these issues before we can proceed with model training."
   ]
  },
  {
   "cell_type": "markdown",
   "id": "d524bd98",
   "metadata": {},
   "source": [
    "Training the model"
   ]
  },
  {
   "cell_type": "code",
   "execution_count": 48,
   "id": "7cfc2476",
   "metadata": {},
   "outputs": [
    {
     "name": "stdout",
     "output_type": "stream",
     "text": [
      "Checking for NaN values after imputation...\n",
      "0\n",
      "Mean Squared Error: 0.629434056122449\n"
     ]
    },
    {
     "name": "stderr",
     "output_type": "stream",
     "text": [
      "C:\\Users\\fabia\\AppData\\Local\\anaconda3\\lib\\site-packages\\sklearn\\base.py:420: UserWarning: X does not have valid feature names, but RandomForestRegressor was fitted with feature names\n",
      "  warnings.warn(\n"
     ]
    }
   ],
   "source": [
    "# Immerse the imputer in the fitting ceremony with the training data\n",
    "imputer.fit(X_train)\n",
    "\n",
    "# Now, the imputer is blessed with the knowledge it needs\n",
    "# Immerse the test data in the healing waters of imputation once more\n",
    "X_test_imputed = imputer.transform(X_test)\n",
    "\n",
    "# Check again for any NaN values after imputation\n",
    "print('Checking for NaN values after imputation...')\n",
    "print(np.isnan(X_test_imputed).sum())\n",
    "\n",
    "# Unleash predictions upon the purified test set\n",
    "y_pred = rf.predict(X_test_imputed)\n",
    "\n",
    "# Gaze upon the calculated Mean Squared Error\n",
    "mse = mean_squared_error(y_test, y_pred)\n",
    "\n",
    "# Share the wisdom with the universe\n",
    "print('Mean Squared Error:', mse)"
   ]
  },
  {
   "cell_type": "markdown",
   "id": "02c0be05",
   "metadata": {},
   "source": [
    "Mean Squared Error:\n",
    "0.5387318666666667\n",
    "The values in the test set have been addressed, and the model has been successfully retrained and evaluated. The Mean Squared Error (MSE) for the cleaned test set is approximately 0.629434056122449. This metric can be used to assess the performance of the model."
   ]
  },
  {
   "cell_type": "code",
   "execution_count": 50,
   "id": "4669fd3e",
   "metadata": {},
   "outputs": [
    {
     "name": "stdout",
     "output_type": "stream",
     "text": [
      "R^2 Score: 0.8645675944141916\n",
      "Mean Absolute Error: 0.5303954081632654\n"
     ]
    }
   ],
   "source": [
    "# Calculate R^2 score\n",
    "r2 = r2_score(y_test, y_pred)\n",
    "\n",
    "# Calculate Mean Absolute Error\n",
    "mae = mean_absolute_error(y_test, y_pred)\n",
    "\n",
    "# Display the evaluation metrics\n",
    "print('R^2 Score:', r2)\n",
    "print('Mean Absolute Error:', mae)"
   ]
  },
  {
   "cell_type": "markdown",
   "id": "c7b3bb96",
   "metadata": {},
   "source": [
    "The model evaluation metrics indicate a good fit, with an R^2 score of approximately 0.864, suggesting that the model explains a significant portion of the variance in the data. The Mean Absolute Error (MAE) is around 0.530, which provides an idea of the average magnitude of errors in the predictions."
   ]
  },
  {
   "cell_type": "markdown",
   "id": "3eea826a",
   "metadata": {},
   "source": [
    "Model Improvement"
   ]
  },
  {
   "cell_type": "code",
   "execution_count": 53,
   "id": "ab540a3a",
   "metadata": {},
   "outputs": [
    {
     "name": "stdout",
     "output_type": "stream",
     "text": [
      "Checking for NaN values after imputation...\n",
      "0\n",
      "Mean Squared Error of the best estimator: 0.6318580073696145\n"
     ]
    },
    {
     "name": "stderr",
     "output_type": "stream",
     "text": [
      "C:\\Users\\fabia\\AppData\\Local\\anaconda3\\lib\\site-packages\\sklearn\\base.py:420: UserWarning: X does not have valid feature names, but RandomForestRegressor was fitted with feature names\n",
      "  warnings.warn(\n"
     ]
    }
   ],
   "source": [
    "# Immerse the test data in the healing waters of imputation\n",
    "X_test_imputed = imputer.transform(X_test)\n",
    "\n",
    "# Check again for any NaN values after imputation\n",
    "print('Checking for NaN values after imputation...')\n",
    "print(np.isnan(X_test_imputed).sum())\n",
    "\n",
    "# Unleash predictions upon the purified test set using the best estimator\n",
    "y_pred_best = best_rf.predict(X_test_imputed)\n",
    "\n",
    "# Gaze upon the calculated Mean Squared Error for the best estimator\n",
    "mse_best = mean_squared_error(y_test, y_pred_best)\n",
    "\n",
    "# Share the wisdom with the universe\n",
    "print('Mean Squared Error of the best estimator:', mse_best)"
   ]
  },
  {
   "cell_type": "code",
   "execution_count": 55,
   "id": "976375f9",
   "metadata": {},
   "outputs": [
    {
     "name": "stdout",
     "output_type": "stream",
     "text": [
      "Model saved as: best_random_forest_model.joblib\n"
     ]
    }
   ],
   "source": [
    "# Save the best estimator to a file\n",
    "model_filename = 'best_random_forest_model.joblib'\n",
    "joblib.dump(best_rf, model_filename)\n",
    "\n",
    "# Confirm the model has been saved\n",
    "print('Model saved as:', model_filename)"
   ]
  },
  {
   "cell_type": "markdown",
   "id": "2ea085f1",
   "metadata": {},
   "source": [
    "Moving forward with Module 24 Capstone part 2.\n",
    "\n",
    "Presently, the LogisticRegressor exhibits superior performance, boasting an impressive 93% accuracy on the validation dataset. The forthcoming actions on my agenda include:\n",
    "\n",
    "    Evaluate performance on the test_df.\n",
    "    Refine the notebook structure, reorganizing code blocks for clarity.\n",
    "    Explore RandomForest and AdaBoostClassifiers with an increased number of iterations, if feasible.\n",
    "    Create models using CountVectorizer.\n",
    "    Construct a performance graph showcasing the diverse models generated.\n",
    "    Initiate the deployment of the model, considering DigitalOcean or any alternative cloud provider."
   ]
  },
  {
   "cell_type": "code",
   "execution_count": null,
   "id": "5a1f8b0e",
   "metadata": {},
   "outputs": [],
   "source": []
  },
  {
   "cell_type": "code",
   "execution_count": null,
   "id": "5f65fccd",
   "metadata": {},
   "outputs": [],
   "source": []
  }
 ],
 "metadata": {
  "kernelspec": {
   "display_name": "Python 3 (ipykernel)",
   "language": "python",
   "name": "python3"
  },
  "language_info": {
   "codemirror_mode": {
    "name": "ipython",
    "version": 3
   },
   "file_extension": ".py",
   "mimetype": "text/x-python",
   "name": "python",
   "nbconvert_exporter": "python",
   "pygments_lexer": "ipython3",
   "version": "3.10.9"
  }
 },
 "nbformat": 4,
 "nbformat_minor": 5
}
